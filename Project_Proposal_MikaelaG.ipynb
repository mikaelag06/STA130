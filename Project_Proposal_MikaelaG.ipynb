{
 "cells": [
  {
   "cell_type": "markdown",
   "id": "a17d218e",
   "metadata": {},
   "source": [
    "Individual Project Proposal - Mikaela Garcia"
   ]
  },
  {
   "cell_type": "markdown",
   "id": "868f80c1",
   "metadata": {},
   "source": [
    "Research Question #1:\n",
    "\n",
    "Do those who spend too little time on social media have different levels of self esteem on average compared to those who spend too much time on social media?"
   ]
  },
  {
   "cell_type": "markdown",
   "id": "41ea0e49",
   "metadata": {},
   "source": [
    "Analysis: Hypothesis Testing (Two-Tailed)\n",
    "- I am choosing correlation hypothesis testing as my method of analysis because I am trying draw conclusions about a population parameters based on a sample statistic.\n",
    "- Null Hypothesis (H0): There is no difference in average self esteem between those who spend too little and too much time on social media.\n",
    "- Alternative Hypothesis (HA): There is a difference in average self esteem between those who spend too little and too much time on social media.\n",
    "- Calculate the mean of the self esteem for both groups.\n",
    "- Calculate the p-value to measure the strength of the evidence against H0"
   ]
  },
  {
   "cell_type": "markdown",
   "id": "57c54318",
   "metadata": {},
   "source": [
    "Variables: \n",
    "- The first variable I would use is LIFESTYLE_time_use_balance_media which categorises the person as spending too much, too little time, or just the right amount of time reading news or social media.\n",
    "- The second variable I would use is PSYCH_self_esteem_unknown_scale_high which indicates how true the statement “I have high self-esteem” is to the person.\n",
    "- For both variables I would suggest a bar graph. This is because we are trying to represent categorical data. In this case the categorical data is the perceived amount of time spent on social media and we are calculating each category's average self esteem.\n",
    "- Both variables are from the 2021_cross data subset."
   ]
  },
  {
   "cell_type": "markdown",
   "id": "fb24756e",
   "metadata": {},
   "source": [
    "Possible results:\n",
    "\n",
    "I hypothesise that the mean of self esteem will be for those who spend too little time reading news or social media.\n",
    "1. There is no difference in average self esteem between the two groups (fail to reject the null hypothesis).\n",
    "2. The group who spends too much time on social media has on average higher self esteem (reject the null hypothesis).\n",
    "3. The group who spends too little time on social media has on average higher self esteem (reject the null hypothesis).\n"
   ]
  },
  {
   "cell_type": "markdown",
   "id": "1cd30e01",
   "metadata": {},
   "source": [
    "Relevancy to the objectives of the course project: \n",
    "\n",
    "This could be relevant for the objectives of the course project as it helps Canadians to become more aware of the effects of the under or over usage of social media on their self image."
   ]
  },
  {
   "cell_type": "markdown",
   "id": "0a5d491c",
   "metadata": {},
   "source": [
    "Research Question #2:\n",
    "\n",
    "Is there a correlation between the amount of close friends someone has and the frequency they talk to strangers?"
   ]
  },
  {
   "cell_type": "markdown",
   "id": "296459e8",
   "metadata": {},
   "source": [
    "Analysis: Data Visualization & Correlation Association\n",
    "- I am choosing correlation association as my method of analysis because I am trying to see if there is a correlation between the two variables. The two variables are not real causes of anything, simply proxies therefore I am not trying to show that there is ‘causation’.\n",
    "- rX,Y = Cor(X,Y)\n",
    "- X: the amount of close friends had by a person\n",
    "- Y: the ability of a person to comfortably talk to strangers\n",
    "- I would plot the data on a scatter plot of observational pairs of data points to then be able to calculator the correlation"
   ]
  },
  {
   "cell_type": "markdown",
   "id": "e7e73f6f",
   "metadata": {},
   "source": [
    "Variables: \n",
    "- The first variable I would use is CONNECTION_social_num_close_friends which indicates how many close friends the person has.\n",
    "- The second variable I would use is STRANGERS_frequency_engage_conversation which indicates how often the person engages in conversations with strangers.\n",
    "- For both variables I would suggest a scatter plot. This is because we are trying to show the relationship between number of close friends and how often strangers are being engaged with which are both numeric values. Also this is the preferred data visualisation for correlation association.\n",
    "- Both variables are from the 2023_cross data subset."
   ]
  },
  {
   "cell_type": "markdown",
   "id": "0b60e9f7",
   "metadata": {},
   "source": [
    "Possible results:\n",
    "\n",
    "I hypothesise that there will be a positive correlation between the amount of close friends and the frequency they talk to strangers.\n",
    "1. rX,Y = 0: There is no correlation between the two variables.\n",
    "2. rX,Y > 0: There is positive correlation between the two variables.\n",
    "3. rX,Y < 0: There is positive correlation between the two variables.\n"
   ]
  },
  {
   "cell_type": "markdown",
   "id": "9b2cde3b",
   "metadata": {},
   "source": [
    "Relevancy to the objectives of the course project:\n",
    "\n",
    "This could be relevant for the objectives of the course project because if there is a strong enough positive correlation between the two variables, this could encourage Canadians to go out of their way to talk to strangers in order to make more close friends."
   ]
  },
  {
   "cell_type": "markdown",
   "id": "87d829be",
   "metadata": {},
   "source": [
    "Research Question #3:\n",
    "\n",
    "How will Canadians who spend more days per week working from home tend to treat their colleagues more impersonally?"
   ]
  },
  {
   "cell_type": "markdown",
   "id": "d02fb439",
   "metadata": {},
   "source": [
    "Analysis: Simple Linear Regression\n",
    "- I am choosing simple linear regression as my method of analysis because I am trying to predict how people will treat their coworkers as they more frequently work from home.\n",
    "- Yi = β0 + β1xi + ϵi\n",
    "- Yi (outcome): the frequency of a person to treat their colleagues impersonally\n",
    "- xi (predictor): the number of days per week spent working from home\n",
    "- β0 (intercept coefficient): the baseline for how frequently coworkers are treated \n",
    "- β1 (slope coefficient): the change in frequency as days worked from her per week increases\n",
    "- ϵi (error term): other factors that may cause someone to treat their colleagues impersonally\n",
    "- I will use simple linear regression to see what correlation my two variables includes"
   ]
  },
  {
   "cell_type": "markdown",
   "id": "d9214b6f",
   "metadata": {},
   "source": [
    "Variables: \n",
    "- The first variable I would use is WORK_shift_days_from_home_num which indicates on average how many days per week the person works from home.\n",
    "- The second variable I would use is  WELLNESS_maslach_burnout_objects which indicates how frequently the statement “I get the feeling that I treat some clients/colleagues impersonally” applies to the person.\n",
    "- For both variables I would suggest a scatter plot. This is because we are trying to show the relationship between the number of days spent working from home per week and frequency to treat coworkers impersonally which we have now converted into numeric values. Also this is the preferred data visualisation for simple linear regression.\n",
    "- Both these variables are from the 2022_cross data subset."
   ]
  },
  {
   "cell_type": "markdown",
   "id": "5c8aedad",
   "metadata": {},
   "source": [
    "Possible results:\n",
    "- I hypothesise that the number of days per week spent working at home will increase the frequency at which people tend to treat their coworkers impersonally.\n",
    "- There is no difference in this frequency.\n",
    "- There is a decrease in this frequency.\n",
    "- There is an increase in this frequency."
   ]
  },
  {
   "cell_type": "markdown",
   "id": "c907cf11",
   "metadata": {},
   "source": [
    "Relevancy to the objectives of the course project: \n",
    " \n",
    "This could be relevant for the objectives of the course project as it helps to predict how increased days working can impact how Canadians treat their colleagues."
   ]
  }
 ],
 "metadata": {
  "kernelspec": {
   "display_name": "Python 3 (ipykernel)",
   "language": "python",
   "name": "python3"
  },
  "language_info": {
   "codemirror_mode": {
    "name": "ipython",
    "version": 3
   },
   "file_extension": ".py",
   "mimetype": "text/x-python",
   "name": "python",
   "nbconvert_exporter": "python",
   "pygments_lexer": "ipython3",
   "version": "3.11.6"
  }
 },
 "nbformat": 4,
 "nbformat_minor": 5
}
