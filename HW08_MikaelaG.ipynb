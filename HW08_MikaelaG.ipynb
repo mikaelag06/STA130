{
 "cells": [
  {
   "cell_type": "markdown",
   "id": "6b2fff1c",
   "metadata": {},
   "source": [
    "PRE-LECTURE HOMEWORK"
   ]
  },
  {
   "cell_type": "markdown",
   "id": "a3ed577e",
   "metadata": {},
   "source": [
    "QUESTION 1"
   ]
  },
  {
   "cell_type": "markdown",
   "id": "e55f5d46",
   "metadata": {},
   "source": [
    "a) Classification decision trees address problems where we want to categorize data points based on their features. The classification decision trees do this by splitting the data into different categories. These decision points are called nodes and they are connected by paths called branches. Altogether these combine to create the decision tree. A real world example of this are medical diagnoses. A classification decision tree would classify the ailment on the bases of the patients symptoms. Another real world example of this is spam email detection. A classification decision tree would classify the email as being spam or not spam based on it's contents.\n",
    "\n",
    "b) Classification decision trees and multiple linear regression models make different types of predictions. Classification decision trees classify data into categories while multiple linear regression models predict continuous numeric values. Which model you use is dependant on the problem you wish to solve. For example if you had someones level of education and wanted to predict their income you would use a multiple linear regression model. If you wanted to predict wether or not their income was above a certain threshold, however, you would use a classification tree."
   ]
  },
  {
   "cell_type": "markdown",
   "id": "26b517af",
   "metadata": {},
   "source": [
    "Session Summary: In this session, we discussed the difference between classification and regression predictions. Classification involves predicting discrete categories or labels (e.g., spam vs. not spam, benign vs. malignant), while Regression predicts continuous numerical values (e.g., house prices, sales forecasts).\n",
    "Key distinctions include the output type (discrete vs. continuous), evaluation metrics (accuracy, F1-score vs. RMSE, MAE), and typical algorithms used (e.g., decision trees for both, but with different implementations for classification and regression).\n",
    "\n",
    "Chatlog History: https://chatgpt.com/c/673e476e-e584-800b-aceb-a5149c45763e"
   ]
  },
  {
   "cell_type": "markdown",
   "id": "b12e8504",
   "metadata": {},
   "source": [
    "QUESTION 2"
   ]
  },
  {
   "cell_type": "markdown",
   "id": "d1ef5c2a",
   "metadata": {},
   "source": [
    "Scenario: We are in the height of the COVID-19 pandemic and a medical company has produced a new at home testing kit. We will use the following metrics to determine how well the new testing kit performs.\n",
    "\n",
    "1. Accuracy: If we wanted to know how well the testing kit correctly identifies wether or not the patient has COVID-19 (or in other words, how reliable overall the test is) we would use accuracy. This is because the accuracy formula gives us a percentage for how often our model predicts the correct (TP and TN) results compared to all of the results (TP, FP, TN, and FN) of the testing kit.\n",
    "\n",
    "2. Sensitivity: If we wanted to know how well the testing kit identifies patients as having COVID-19 compared to all patients who do actually have COVID-19, we would use sensitivity. This is because the sensitivity formula gives us a percentage for how often our model predicts the correct positive (TP) results compared to all of the actual positive cases (TP and FN).\n",
    "\n",
    "3. Specificity: If we wanted to know how well the test correctly identifies patients as not having COVID-19 compared to all patients who do not actually have COVID-19, we would use specificity. This is because the specificity formula gives us a percentage for how often our model predicts the true negative (TN) results compared to all of the negative results (TN and FN) of the testing kit.\n",
    "\n",
    "4. Precision: If we wanted to know how accurate all the positive results of the test are we would use precision. This is because the precision formula gives us a percentage for how often our model predicts the correct positive (TP) results compared to all of the positive results (TP and FP) of the testing kit."
   ]
  },
  {
   "cell_type": "markdown",
   "id": "ad48f653",
   "metadata": {},
   "source": [
    "Session Summary: In today's session, we discussed how key metrics—accuracy, precision, sensitivity, and specificity—apply to a new at-home COVID-19 testing kit. For an at-home COVID-19 test, ideal performance would require high sensitivity to detect infected individuals, high specificity to avoid false positives, high precision to ensure true positives, and high accuracy for overall reliability.\n",
    "\n",
    "Chatlog history: https://chatgpt.com/c/673e54d6-5380-800b-8f36-711dfffdae57"
   ]
  },
  {
   "cell_type": "markdown",
   "id": "347f3938",
   "metadata": {},
   "source": [
    "QUESTION 3"
   ]
  },
  {
   "cell_type": "code",
   "execution_count": 18,
   "id": "e41ba9f7",
   "metadata": {},
   "outputs": [],
   "source": [
    "import pandas as pd\n",
    "import numpy as np\n",
    "from sklearn import tree\n",
    "from sklearn.model_selection import train_test_split\n",
    "from sklearn.metrics import confusion_matrix, ConfusionMatrixDisplay\n",
    "from sklearn.metrics import accuracy_score, recall_score, make_scorer\n",
    "import graphviz as gv\n",
    "\n",
    "url = \"https://raw.githubusercontent.com/pointOfive/STA130_F23/main/Data/amazonbooks.csv\"\n",
    "ab = pd.read_csv(url, encoding=\"ISO-8859-1\")\n",
    "# create `ab_reduced_noNaN` based on the specs above"
   ]
  },
  {
   "cell_type": "code",
   "execution_count": 19,
   "id": "d4125869",
   "metadata": {},
   "outputs": [
    {
     "data": {
      "text/html": [
       "<div>\n",
       "<style scoped>\n",
       "    .dataframe tbody tr th:only-of-type {\n",
       "        vertical-align: middle;\n",
       "    }\n",
       "\n",
       "    .dataframe tbody tr th {\n",
       "        vertical-align: top;\n",
       "    }\n",
       "\n",
       "    .dataframe thead th {\n",
       "        text-align: right;\n",
       "    }\n",
       "</style>\n",
       "<table border=\"1\" class=\"dataframe\">\n",
       "  <thead>\n",
       "    <tr style=\"text-align: right;\">\n",
       "      <th></th>\n",
       "      <th>Title</th>\n",
       "      <th>Author</th>\n",
       "      <th>List Price</th>\n",
       "      <th>Amazon Price</th>\n",
       "      <th>Hard_or_Paper</th>\n",
       "      <th>NumPages</th>\n",
       "      <th>Publisher</th>\n",
       "      <th>Pub year</th>\n",
       "      <th>ISBN-10</th>\n",
       "      <th>Height</th>\n",
       "      <th>Width</th>\n",
       "      <th>Thick</th>\n",
       "      <th>Weight_oz</th>\n",
       "    </tr>\n",
       "  </thead>\n",
       "  <tbody>\n",
       "    <tr>\n",
       "      <th>0</th>\n",
       "      <td>1,001 Facts that Will Scare the S#*t Out of Yo...</td>\n",
       "      <td>Cary McNeal</td>\n",
       "      <td>12.95</td>\n",
       "      <td>5.18</td>\n",
       "      <td>P</td>\n",
       "      <td>304.0</td>\n",
       "      <td>Adams Media</td>\n",
       "      <td>2010.0</td>\n",
       "      <td>1605506249</td>\n",
       "      <td>7.8</td>\n",
       "      <td>5.5</td>\n",
       "      <td>0.8</td>\n",
       "      <td>11.2</td>\n",
       "    </tr>\n",
       "    <tr>\n",
       "      <th>1</th>\n",
       "      <td>21: Bringing Down the House - Movie Tie-In: Th...</td>\n",
       "      <td>Ben Mezrich</td>\n",
       "      <td>15.00</td>\n",
       "      <td>10.20</td>\n",
       "      <td>P</td>\n",
       "      <td>273.0</td>\n",
       "      <td>Free Press</td>\n",
       "      <td>2008.0</td>\n",
       "      <td>1416564195</td>\n",
       "      <td>8.4</td>\n",
       "      <td>5.5</td>\n",
       "      <td>0.7</td>\n",
       "      <td>7.2</td>\n",
       "    </tr>\n",
       "    <tr>\n",
       "      <th>2</th>\n",
       "      <td>100 Best-Loved Poems (Dover Thrift Editions)</td>\n",
       "      <td>Smith</td>\n",
       "      <td>1.50</td>\n",
       "      <td>1.50</td>\n",
       "      <td>P</td>\n",
       "      <td>96.0</td>\n",
       "      <td>Dover Publications</td>\n",
       "      <td>1995.0</td>\n",
       "      <td>486285537</td>\n",
       "      <td>8.3</td>\n",
       "      <td>5.2</td>\n",
       "      <td>0.3</td>\n",
       "      <td>4.0</td>\n",
       "    </tr>\n",
       "    <tr>\n",
       "      <th>3</th>\n",
       "      <td>1421: The Year China Discovered America</td>\n",
       "      <td>Gavin Menzies</td>\n",
       "      <td>15.99</td>\n",
       "      <td>10.87</td>\n",
       "      <td>P</td>\n",
       "      <td>672.0</td>\n",
       "      <td>Harper Perennial</td>\n",
       "      <td>2008.0</td>\n",
       "      <td>61564893</td>\n",
       "      <td>8.8</td>\n",
       "      <td>6.0</td>\n",
       "      <td>1.6</td>\n",
       "      <td>28.8</td>\n",
       "    </tr>\n",
       "    <tr>\n",
       "      <th>4</th>\n",
       "      <td>1493: Uncovering the New World Columbus Created</td>\n",
       "      <td>Charles C. Mann</td>\n",
       "      <td>30.50</td>\n",
       "      <td>16.77</td>\n",
       "      <td>P</td>\n",
       "      <td>720.0</td>\n",
       "      <td>Knopf</td>\n",
       "      <td>2011.0</td>\n",
       "      <td>307265722</td>\n",
       "      <td>8.0</td>\n",
       "      <td>5.2</td>\n",
       "      <td>1.4</td>\n",
       "      <td>22.4</td>\n",
       "    </tr>\n",
       "    <tr>\n",
       "      <th>...</th>\n",
       "      <td>...</td>\n",
       "      <td>...</td>\n",
       "      <td>...</td>\n",
       "      <td>...</td>\n",
       "      <td>...</td>\n",
       "      <td>...</td>\n",
       "      <td>...</td>\n",
       "      <td>...</td>\n",
       "      <td>...</td>\n",
       "      <td>...</td>\n",
       "      <td>...</td>\n",
       "      <td>...</td>\n",
       "      <td>...</td>\n",
       "    </tr>\n",
       "    <tr>\n",
       "      <th>320</th>\n",
       "      <td>Where the Sidewalk Ends</td>\n",
       "      <td>Shel Silverstein</td>\n",
       "      <td>18.99</td>\n",
       "      <td>12.24</td>\n",
       "      <td>H</td>\n",
       "      <td>192.0</td>\n",
       "      <td>HarperCollins</td>\n",
       "      <td>2004.0</td>\n",
       "      <td>60572345</td>\n",
       "      <td>9.3</td>\n",
       "      <td>6.6</td>\n",
       "      <td>1.1</td>\n",
       "      <td>24.0</td>\n",
       "    </tr>\n",
       "    <tr>\n",
       "      <th>321</th>\n",
       "      <td>White Privilege</td>\n",
       "      <td>Paula S. Rothenberg</td>\n",
       "      <td>27.55</td>\n",
       "      <td>27.55</td>\n",
       "      <td>P</td>\n",
       "      <td>160.0</td>\n",
       "      <td>Worth Publishers</td>\n",
       "      <td>2011.0</td>\n",
       "      <td>1429233443</td>\n",
       "      <td>9.1</td>\n",
       "      <td>6.1</td>\n",
       "      <td>0.7</td>\n",
       "      <td>8.0</td>\n",
       "    </tr>\n",
       "    <tr>\n",
       "      <th>322</th>\n",
       "      <td>Why I wore lipstick</td>\n",
       "      <td>Geralyn Lucas</td>\n",
       "      <td>12.95</td>\n",
       "      <td>5.18</td>\n",
       "      <td>P</td>\n",
       "      <td>224.0</td>\n",
       "      <td>St Martin's Griffin</td>\n",
       "      <td>2005.0</td>\n",
       "      <td>031233446X</td>\n",
       "      <td>8.0</td>\n",
       "      <td>5.4</td>\n",
       "      <td>0.7</td>\n",
       "      <td>6.4</td>\n",
       "    </tr>\n",
       "    <tr>\n",
       "      <th>323</th>\n",
       "      <td>Worlds Together, Worlds Apart: A History of th...</td>\n",
       "      <td>Robert Tignor</td>\n",
       "      <td>97.50</td>\n",
       "      <td>97.50</td>\n",
       "      <td>P</td>\n",
       "      <td>480.0</td>\n",
       "      <td>W. W. Norton &amp; Company</td>\n",
       "      <td>2010.0</td>\n",
       "      <td>393934942</td>\n",
       "      <td>10.7</td>\n",
       "      <td>8.9</td>\n",
       "      <td>0.9</td>\n",
       "      <td>14.4</td>\n",
       "    </tr>\n",
       "    <tr>\n",
       "      <th>324</th>\n",
       "      <td>Wuthering Heights</td>\n",
       "      <td>Emily Bronte</td>\n",
       "      <td>16.99</td>\n",
       "      <td>4.95</td>\n",
       "      <td>P</td>\n",
       "      <td>344.0</td>\n",
       "      <td>CreatSpace</td>\n",
       "      <td>2011.0</td>\n",
       "      <td>1463533411</td>\n",
       "      <td>7.8</td>\n",
       "      <td>5.1</td>\n",
       "      <td>1.0</td>\n",
       "      <td>16.0</td>\n",
       "    </tr>\n",
       "  </tbody>\n",
       "</table>\n",
       "<p>325 rows × 13 columns</p>\n",
       "</div>"
      ],
      "text/plain": [
       "                                                 Title               Author  \\\n",
       "0    1,001 Facts that Will Scare the S#*t Out of Yo...          Cary McNeal   \n",
       "1    21: Bringing Down the House - Movie Tie-In: Th...          Ben Mezrich   \n",
       "2         100 Best-Loved Poems (Dover Thrift Editions)                Smith   \n",
       "3              1421: The Year China Discovered America        Gavin Menzies   \n",
       "4      1493: Uncovering the New World Columbus Created      Charles C. Mann   \n",
       "..                                                 ...                  ...   \n",
       "320                            Where the Sidewalk Ends     Shel Silverstein   \n",
       "321                                    White Privilege  Paula S. Rothenberg   \n",
       "322                                Why I wore lipstick        Geralyn Lucas   \n",
       "323  Worlds Together, Worlds Apart: A History of th...        Robert Tignor   \n",
       "324                                  Wuthering Heights         Emily Bronte   \n",
       "\n",
       "     List Price  Amazon Price Hard_or_Paper  NumPages               Publisher  \\\n",
       "0         12.95          5.18             P     304.0             Adams Media   \n",
       "1         15.00         10.20             P     273.0              Free Press   \n",
       "2          1.50          1.50             P      96.0      Dover Publications   \n",
       "3         15.99         10.87             P     672.0        Harper Perennial   \n",
       "4         30.50         16.77             P     720.0                   Knopf   \n",
       "..          ...           ...           ...       ...                     ...   \n",
       "320       18.99         12.24             H     192.0           HarperCollins   \n",
       "321       27.55         27.55             P     160.0        Worth Publishers   \n",
       "322       12.95          5.18             P     224.0     St Martin's Griffin   \n",
       "323       97.50         97.50             P     480.0  W. W. Norton & Company   \n",
       "324       16.99          4.95             P     344.0              CreatSpace   \n",
       "\n",
       "     Pub year     ISBN-10  Height  Width  Thick  Weight_oz  \n",
       "0      2010.0  1605506249     7.8    5.5    0.8       11.2  \n",
       "1      2008.0  1416564195     8.4    5.5    0.7        7.2  \n",
       "2      1995.0   486285537     8.3    5.2    0.3        4.0  \n",
       "3      2008.0    61564893     8.8    6.0    1.6       28.8  \n",
       "4      2011.0   307265722     8.0    5.2    1.4       22.4  \n",
       "..        ...         ...     ...    ...    ...        ...  \n",
       "320    2004.0    60572345     9.3    6.6    1.1       24.0  \n",
       "321    2011.0  1429233443     9.1    6.1    0.7        8.0  \n",
       "322    2005.0  031233446X     8.0    5.4    0.7        6.4  \n",
       "323    2010.0   393934942    10.7    8.9    0.9       14.4  \n",
       "324    2011.0  1463533411     7.8    5.1    1.0       16.0  \n",
       "\n",
       "[325 rows x 13 columns]"
      ]
     },
     "execution_count": 19,
     "metadata": {},
     "output_type": "execute_result"
    }
   ],
   "source": [
    "ab"
   ]
  },
  {
   "cell_type": "code",
   "execution_count": 20,
   "id": "b084a896",
   "metadata": {},
   "outputs": [],
   "source": [
    "ab.drop('Weight_oz', axis=1, inplace=True) # remove column Weight_oz\n",
    "ab.drop('Width', axis=1, inplace=True) # remove column Width\n",
    "ab.drop('Height', axis=1, inplace=True) # remove column Height"
   ]
  },
  {
   "cell_type": "code",
   "execution_count": 21,
   "id": "d7741588",
   "metadata": {},
   "outputs": [],
   "source": [
    "ab.dropna(axis=0, inplace=True) # drop all remaining rows with NaN entries"
   ]
  },
  {
   "cell_type": "code",
   "execution_count": 22,
   "id": "77e6eca4",
   "metadata": {},
   "outputs": [],
   "source": [
    "ab['Pub year'] = ab['Pub year'].astype(int)\n",
    "ab['NumPages'] = ab['NumPages'].astype(int)\n",
    "ab['Hard_or_Paper'] = ab['Hard_or_Paper'].astype('category')"
   ]
  },
  {
   "cell_type": "code",
   "execution_count": 23,
   "id": "012623b4",
   "metadata": {},
   "outputs": [
    {
     "data": {
      "text/html": [
       "<div>\n",
       "<style scoped>\n",
       "    .dataframe tbody tr th:only-of-type {\n",
       "        vertical-align: middle;\n",
       "    }\n",
       "\n",
       "    .dataframe tbody tr th {\n",
       "        vertical-align: top;\n",
       "    }\n",
       "\n",
       "    .dataframe thead th {\n",
       "        text-align: right;\n",
       "    }\n",
       "</style>\n",
       "<table border=\"1\" class=\"dataframe\">\n",
       "  <thead>\n",
       "    <tr style=\"text-align: right;\">\n",
       "      <th></th>\n",
       "      <th>Title</th>\n",
       "      <th>Author</th>\n",
       "      <th>List Price</th>\n",
       "      <th>Amazon Price</th>\n",
       "      <th>Hard_or_Paper</th>\n",
       "      <th>NumPages</th>\n",
       "      <th>Publisher</th>\n",
       "      <th>Pub year</th>\n",
       "      <th>ISBN-10</th>\n",
       "      <th>Thick</th>\n",
       "    </tr>\n",
       "  </thead>\n",
       "  <tbody>\n",
       "    <tr>\n",
       "      <th>0</th>\n",
       "      <td>1,001 Facts that Will Scare the S#*t Out of Yo...</td>\n",
       "      <td>Cary McNeal</td>\n",
       "      <td>12.95</td>\n",
       "      <td>5.18</td>\n",
       "      <td>P</td>\n",
       "      <td>304</td>\n",
       "      <td>Adams Media</td>\n",
       "      <td>2010</td>\n",
       "      <td>1605506249</td>\n",
       "      <td>0.8</td>\n",
       "    </tr>\n",
       "    <tr>\n",
       "      <th>1</th>\n",
       "      <td>21: Bringing Down the House - Movie Tie-In: Th...</td>\n",
       "      <td>Ben Mezrich</td>\n",
       "      <td>15.00</td>\n",
       "      <td>10.20</td>\n",
       "      <td>P</td>\n",
       "      <td>273</td>\n",
       "      <td>Free Press</td>\n",
       "      <td>2008</td>\n",
       "      <td>1416564195</td>\n",
       "      <td>0.7</td>\n",
       "    </tr>\n",
       "    <tr>\n",
       "      <th>2</th>\n",
       "      <td>100 Best-Loved Poems (Dover Thrift Editions)</td>\n",
       "      <td>Smith</td>\n",
       "      <td>1.50</td>\n",
       "      <td>1.50</td>\n",
       "      <td>P</td>\n",
       "      <td>96</td>\n",
       "      <td>Dover Publications</td>\n",
       "      <td>1995</td>\n",
       "      <td>486285537</td>\n",
       "      <td>0.3</td>\n",
       "    </tr>\n",
       "    <tr>\n",
       "      <th>3</th>\n",
       "      <td>1421: The Year China Discovered America</td>\n",
       "      <td>Gavin Menzies</td>\n",
       "      <td>15.99</td>\n",
       "      <td>10.87</td>\n",
       "      <td>P</td>\n",
       "      <td>672</td>\n",
       "      <td>Harper Perennial</td>\n",
       "      <td>2008</td>\n",
       "      <td>61564893</td>\n",
       "      <td>1.6</td>\n",
       "    </tr>\n",
       "    <tr>\n",
       "      <th>4</th>\n",
       "      <td>1493: Uncovering the New World Columbus Created</td>\n",
       "      <td>Charles C. Mann</td>\n",
       "      <td>30.50</td>\n",
       "      <td>16.77</td>\n",
       "      <td>P</td>\n",
       "      <td>720</td>\n",
       "      <td>Knopf</td>\n",
       "      <td>2011</td>\n",
       "      <td>307265722</td>\n",
       "      <td>1.4</td>\n",
       "    </tr>\n",
       "    <tr>\n",
       "      <th>...</th>\n",
       "      <td>...</td>\n",
       "      <td>...</td>\n",
       "      <td>...</td>\n",
       "      <td>...</td>\n",
       "      <td>...</td>\n",
       "      <td>...</td>\n",
       "      <td>...</td>\n",
       "      <td>...</td>\n",
       "      <td>...</td>\n",
       "      <td>...</td>\n",
       "    </tr>\n",
       "    <tr>\n",
       "      <th>320</th>\n",
       "      <td>Where the Sidewalk Ends</td>\n",
       "      <td>Shel Silverstein</td>\n",
       "      <td>18.99</td>\n",
       "      <td>12.24</td>\n",
       "      <td>H</td>\n",
       "      <td>192</td>\n",
       "      <td>HarperCollins</td>\n",
       "      <td>2004</td>\n",
       "      <td>60572345</td>\n",
       "      <td>1.1</td>\n",
       "    </tr>\n",
       "    <tr>\n",
       "      <th>321</th>\n",
       "      <td>White Privilege</td>\n",
       "      <td>Paula S. Rothenberg</td>\n",
       "      <td>27.55</td>\n",
       "      <td>27.55</td>\n",
       "      <td>P</td>\n",
       "      <td>160</td>\n",
       "      <td>Worth Publishers</td>\n",
       "      <td>2011</td>\n",
       "      <td>1429233443</td>\n",
       "      <td>0.7</td>\n",
       "    </tr>\n",
       "    <tr>\n",
       "      <th>322</th>\n",
       "      <td>Why I wore lipstick</td>\n",
       "      <td>Geralyn Lucas</td>\n",
       "      <td>12.95</td>\n",
       "      <td>5.18</td>\n",
       "      <td>P</td>\n",
       "      <td>224</td>\n",
       "      <td>St Martin's Griffin</td>\n",
       "      <td>2005</td>\n",
       "      <td>031233446X</td>\n",
       "      <td>0.7</td>\n",
       "    </tr>\n",
       "    <tr>\n",
       "      <th>323</th>\n",
       "      <td>Worlds Together, Worlds Apart: A History of th...</td>\n",
       "      <td>Robert Tignor</td>\n",
       "      <td>97.50</td>\n",
       "      <td>97.50</td>\n",
       "      <td>P</td>\n",
       "      <td>480</td>\n",
       "      <td>W. W. Norton &amp; Company</td>\n",
       "      <td>2010</td>\n",
       "      <td>393934942</td>\n",
       "      <td>0.9</td>\n",
       "    </tr>\n",
       "    <tr>\n",
       "      <th>324</th>\n",
       "      <td>Wuthering Heights</td>\n",
       "      <td>Emily Bronte</td>\n",
       "      <td>16.99</td>\n",
       "      <td>4.95</td>\n",
       "      <td>P</td>\n",
       "      <td>344</td>\n",
       "      <td>CreatSpace</td>\n",
       "      <td>2011</td>\n",
       "      <td>1463533411</td>\n",
       "      <td>1.0</td>\n",
       "    </tr>\n",
       "  </tbody>\n",
       "</table>\n",
       "<p>319 rows × 10 columns</p>\n",
       "</div>"
      ],
      "text/plain": [
       "                                                 Title               Author  \\\n",
       "0    1,001 Facts that Will Scare the S#*t Out of Yo...          Cary McNeal   \n",
       "1    21: Bringing Down the House - Movie Tie-In: Th...          Ben Mezrich   \n",
       "2         100 Best-Loved Poems (Dover Thrift Editions)                Smith   \n",
       "3              1421: The Year China Discovered America        Gavin Menzies   \n",
       "4      1493: Uncovering the New World Columbus Created      Charles C. Mann   \n",
       "..                                                 ...                  ...   \n",
       "320                            Where the Sidewalk Ends     Shel Silverstein   \n",
       "321                                    White Privilege  Paula S. Rothenberg   \n",
       "322                                Why I wore lipstick        Geralyn Lucas   \n",
       "323  Worlds Together, Worlds Apart: A History of th...        Robert Tignor   \n",
       "324                                  Wuthering Heights         Emily Bronte   \n",
       "\n",
       "     List Price  Amazon Price Hard_or_Paper  NumPages               Publisher  \\\n",
       "0         12.95          5.18             P       304             Adams Media   \n",
       "1         15.00         10.20             P       273              Free Press   \n",
       "2          1.50          1.50             P        96      Dover Publications   \n",
       "3         15.99         10.87             P       672        Harper Perennial   \n",
       "4         30.50         16.77             P       720                   Knopf   \n",
       "..          ...           ...           ...       ...                     ...   \n",
       "320       18.99         12.24             H       192           HarperCollins   \n",
       "321       27.55         27.55             P       160        Worth Publishers   \n",
       "322       12.95          5.18             P       224     St Martin's Griffin   \n",
       "323       97.50         97.50             P       480  W. W. Norton & Company   \n",
       "324       16.99          4.95             P       344              CreatSpace   \n",
       "\n",
       "     Pub year     ISBN-10  Thick  \n",
       "0        2010  1605506249    0.8  \n",
       "1        2008  1416564195    0.7  \n",
       "2        1995   486285537    0.3  \n",
       "3        2008    61564893    1.6  \n",
       "4        2011   307265722    1.4  \n",
       "..        ...         ...    ...  \n",
       "320      2004    60572345    1.1  \n",
       "321      2011  1429233443    0.7  \n",
       "322      2005  031233446X    0.7  \n",
       "323      2010   393934942    0.9  \n",
       "324      2011  1463533411    1.0  \n",
       "\n",
       "[319 rows x 10 columns]"
      ]
     },
     "execution_count": 23,
     "metadata": {},
     "output_type": "execute_result"
    }
   ],
   "source": [
    "ab"
   ]
  },
  {
   "cell_type": "markdown",
   "id": "046459b6",
   "metadata": {},
   "source": [
    "QUESTION 4"
   ]
  },
  {
   "cell_type": "code",
   "execution_count": 24,
   "id": "e9e1d8d6",
   "metadata": {},
   "outputs": [],
   "source": [
    "ab_reduced_noNaN = ab"
   ]
  },
  {
   "cell_type": "code",
   "execution_count": 25,
   "id": "7acec2d5",
   "metadata": {},
   "outputs": [
    {
     "name": "stdout",
     "output_type": "stream",
     "text": [
      "Number of observation in training data set: 255\n",
      "Number of observation in test data set: 64\n"
     ]
    }
   ],
   "source": [
    "np.random.seed(130)\n",
    "training_indices = ab_reduced_noNaN.sample(frac=0.8, replace=False).index.sort_values()\n",
    "testing_indices = ab_reduced_noNaN.index[~ab_reduced_noNaN.index.isin(training_indices)]\n",
    "print('Number of observation in training data set:', len(training_indices))\n",
    "print('Number of observation in test data set:', len(testing_indices))"
   ]
  },
  {
   "cell_type": "markdown",
   "id": "fa3d6dd7",
   "metadata": {},
   "source": [
    "y = pd.get_dummies(ab_reduced_noNaN[\"Hard_or_Paper\"])['H']\n",
    "\n",
    "This code converts Hard_or_Paper (catagorical data) into a binary format. It does this by creating columns for the two different values in Hard_or_Paper. It then selects the column corresponding to the category for 'H' and assigns each value 0 or 1 dpeneding on wether or not it matches the value in hte column.\n",
    "\n",
    "X = ab_reduced_noNaN[['List Price']]\n",
    "\n",
    "This code uses the List Price column as the feature for the model. X will be a data frame containing data points from List Price."
   ]
  },
  {
   "cell_type": "code",
   "execution_count": 26,
   "id": "eb69ee32",
   "metadata": {},
   "outputs": [],
   "source": [
    "y = pd.get_dummies(ab_reduced_noNaN[\"Hard_or_Paper\"])['H']\n",
    "X = ab_reduced_noNaN[['List Price']]"
   ]
  },
  {
   "cell_type": "code",
   "execution_count": 27,
   "id": "f39f3ab6",
   "metadata": {},
   "outputs": [
    {
     "name": "stdout",
     "output_type": "stream",
     "text": [
      "Model trained successfully!\n"
     ]
    }
   ],
   "source": [
    "from sklearn.tree import DecisionTreeClassifier\n",
    "\n",
    "# Assuming X and y are already defined as follows:\n",
    "# y = pd.get_dummies(ab_reduced_noNaN[\"Hard_or_Paper\"])['H']\n",
    "# X = ab_reduced_noNaN[['List Price']]\n",
    "\n",
    "# Create the DecisionTreeClassifier with max_depth=2\n",
    "clf = DecisionTreeClassifier(max_depth=2, random_state=42)\n",
    "\n",
    "# Train (fit) the model\n",
    "clf.fit(X, y)\n",
    "\n",
    "print(\"Model trained successfully!\")"
   ]
  },
  {
   "cell_type": "code",
   "execution_count": 28,
   "id": "32d42240",
   "metadata": {},
   "outputs": [
    {
     "data": {
      "text/plain": [
       "[Text(0.5, 0.8333333333333334, 'x[0] <= 17.97\\ngini = 0.394\\nsamples = 319\\nvalue = [233, 86]'),\n",
       " Text(0.25, 0.5, 'x[0] <= 10.8\\ngini = 0.194\\nsamples = 221\\nvalue = [197, 24]'),\n",
       " Text(0.125, 0.16666666666666666, 'gini = 0.355\\nsamples = 52\\nvalue = [40, 12]'),\n",
       " Text(0.375, 0.16666666666666666, 'gini = 0.132\\nsamples = 169\\nvalue = [157, 12]'),\n",
       " Text(0.75, 0.5, 'x[0] <= 29.225\\ngini = 0.465\\nsamples = 98\\nvalue = [36, 62]'),\n",
       " Text(0.625, 0.16666666666666666, 'gini = 0.382\\nsamples = 74\\nvalue = [19, 55]'),\n",
       " Text(0.875, 0.16666666666666666, 'gini = 0.413\\nsamples = 24\\nvalue = [17, 7]')]"
      ]
     },
     "execution_count": 28,
     "metadata": {},
     "output_type": "execute_result"
    },
    {
     "data": {
      "image/png": "[encoded data removed]",
      "text/plain": [
       "<Figure size 640x480 with 1 Axes>"
      ]
     },
     "metadata": {},
     "output_type": "display_data"
    }
   ],
   "source": [
    "tree.plot_tree(clf)"
   ]
  },
  {
   "cell_type": "markdown",
   "id": "77e0f22c",
   "metadata": {},
   "source": [
    "The predictions made based on List Price for the fitted clf model are the following:\n",
    "- If a book is less than or equal to 17.97 dollars or greater than 29.225 dollars, then it is more likely to be paper back.\n",
    "- If a book is between 17.97 and 29.225 dollars, then it is more likely to be hard back.\n",
    "- A book is the most likely to be paper back if it cost between 10.8 and 17.97 dollars."
   ]
  },
  {
   "cell_type": "markdown",
   "id": "5165d1c3",
   "metadata": {},
   "source": [
    "Session Summary: In this session, we discussed how to prepare data for a scikit-learn DecisionTreeClassifier, converting a categorical target variable to binary using pd.get_dummies and selecting features for the model. Then, I provided code to train a classification tree using List Price as the predictor with a maximum depth of 2 to classify books as hardback or paperback.\n",
    "\n",
    "Chatlog History: https://chatgpt.com/c/673e71a9-989c-800b-925c-d49a9edb77f8"
   ]
  },
  {
   "cell_type": "markdown",
   "id": "472cd739",
   "metadata": {},
   "source": [
    "POST LECTURE HOMEWORK"
   ]
  },
  {
   "cell_type": "markdown",
   "id": "aba1edc1",
   "metadata": {},
   "source": [
    "QUESTION 5"
   ]
  },
  {
   "cell_type": "code",
   "execution_count": 29,
   "id": "fe9d848b",
   "metadata": {},
   "outputs": [],
   "source": [
    "y = pd.get_dummies(ab_reduced_noNaN[\"Hard_or_Paper\"])['H']\n",
    "X = ab_reduced_noNaN[['NumPages', 'Thick', 'List Price']]"
   ]
  },
  {
   "cell_type": "code",
   "execution_count": 30,
   "id": "9c693637",
   "metadata": {},
   "outputs": [
    {
     "name": "stdout",
     "output_type": "stream",
     "text": [
      "Model trained successfully!\n"
     ]
    }
   ],
   "source": [
    "from sklearn.tree import DecisionTreeClassifier\n",
    "\n",
    "# Create the DecisionTreeClassifier with max_depth=4\n",
    "clf2 = DecisionTreeClassifier(max_depth=4, random_state=42)\n",
    "\n",
    "# Train (fit) the model\n",
    "clf2.fit(X, y)\n",
    "\n",
    "print(\"Model trained successfully!\")"
   ]
  },
  {
   "cell_type": "code",
   "execution_count": 31,
   "id": "97bddb35",
   "metadata": {},
   "outputs": [
    {
     "data": {
      "text/plain": [
       "[Text(0.45652173913043476, 0.9, 'x[2] <= 17.97\\ngini = 0.394\\nsamples = 319\\nvalue = [233, 86]'),\n",
       " Text(0.1956521739130435, 0.7, 'x[0] <= 82.0\\ngini = 0.194\\nsamples = 221\\nvalue = [197, 24]'),\n",
       " Text(0.08695652173913043, 0.5, 'x[1] <= 0.25\\ngini = 0.375\\nsamples = 8\\nvalue = [2, 6]'),\n",
       " Text(0.043478260869565216, 0.3, 'gini = 0.0\\nsamples = 2\\nvalue = [2, 0]'),\n",
       " Text(0.13043478260869565, 0.3, 'gini = 0.0\\nsamples = 6\\nvalue = [0, 6]'),\n",
       " Text(0.30434782608695654, 0.5, 'x[1] <= 1.65\\ngini = 0.155\\nsamples = 213\\nvalue = [195, 18]'),\n",
       " Text(0.21739130434782608, 0.3, 'x[2] <= 16.97\\ngini = 0.148\\nsamples = 211\\nvalue = [194, 17]'),\n",
       " Text(0.17391304347826086, 0.1, 'gini = 0.131\\nsamples = 198\\nvalue = [184, 14]'),\n",
       " Text(0.2608695652173913, 0.1, 'gini = 0.355\\nsamples = 13\\nvalue = [10, 3]'),\n",
       " Text(0.391304347826087, 0.3, 'x[0] <= 656.0\\ngini = 0.5\\nsamples = 2\\nvalue = [1, 1]'),\n",
       " Text(0.34782608695652173, 0.1, 'gini = 0.0\\nsamples = 1\\nvalue = [1, 0]'),\n",
       " Text(0.43478260869565216, 0.1, 'gini = 0.0\\nsamples = 1\\nvalue = [0, 1]'),\n",
       " Text(0.717391304347826, 0.7, 'x[1] <= 0.95\\ngini = 0.465\\nsamples = 98\\nvalue = [36, 62]'),\n",
       " Text(0.6086956521739131, 0.5, 'x[0] <= 280.0\\ngini = 0.424\\nsamples = 36\\nvalue = [25, 11]'),\n",
       " Text(0.5652173913043478, 0.3, 'x[1] <= 0.75\\ngini = 0.5\\nsamples = 22\\nvalue = [11, 11]'),\n",
       " Text(0.5217391304347826, 0.1, 'gini = 0.43\\nsamples = 16\\nvalue = [11, 5]'),\n",
       " Text(0.6086956521739131, 0.1, 'gini = 0.0\\nsamples = 6\\nvalue = [0, 6]'),\n",
       " Text(0.6521739130434783, 0.3, 'gini = 0.0\\nsamples = 14\\nvalue = [14, 0]'),\n",
       " Text(0.8260869565217391, 0.5, 'x[0] <= 560.0\\ngini = 0.292\\nsamples = 62\\nvalue = [11, 51]'),\n",
       " Text(0.7391304347826086, 0.3, 'x[1] <= 1.05\\ngini = 0.153\\nsamples = 48\\nvalue = [4, 44]'),\n",
       " Text(0.6956521739130435, 0.1, 'gini = 0.408\\nsamples = 14\\nvalue = [4, 10]'),\n",
       " Text(0.782608695652174, 0.1, 'gini = 0.0\\nsamples = 34\\nvalue = [0, 34]'),\n",
       " Text(0.9130434782608695, 0.3, 'x[1] <= 1.45\\ngini = 0.5\\nsamples = 14\\nvalue = [7, 7]'),\n",
       " Text(0.8695652173913043, 0.1, 'gini = 0.32\\nsamples = 5\\nvalue = [4, 1]'),\n",
       " Text(0.9565217391304348, 0.1, 'gini = 0.444\\nsamples = 9\\nvalue = [3, 6]')]"
      ]
     },
     "execution_count": 31,
     "metadata": {},
     "output_type": "execute_result"
    },
    {
     "data": {
      "image/png": "[encoded data removed]",
      "text/plain": [
       "<Figure size 640x480 with 1 Axes>"
      ]
     },
     "metadata": {},
     "output_type": "display_data"
    }
   ],
   "source": [
    "tree.plot_tree(clf2)"
   ]
  },
  {
   "cell_type": "markdown",
   "id": "13dc0d6c",
   "metadata": {},
   "source": [
    "Predictions are made for clf2 by fitting the model to the three independent variables NumPages, Thick, and List Price. DecisionTreeClassifier then uses these to learn their relationship with Hard_or_Paper."
   ]
  },
  {
   "cell_type": "markdown",
   "id": "8f67bdcd",
   "metadata": {},
   "source": [
    "Session Summary: In this session, we discussed how a DecisionTreeClassifier works in your specific case. You are using three independent variables—'NumPages', 'Thick', and 'List Price'—to predict the target variable 'Hard_or_Paper', specifically the 'H' column after one-hot encoding. The model is trained by calling clf2.fit(X, y), where X contains the independent variables and y holds the target labels. The decision tree algorithm learns the relationship between the features and the target by splitting the data based on the values of the independent variables, creating decision rules in the process.\n",
    "    \n",
    "Chatlog History: https://chatgpt.com/c/673e900f-4a68-800b-92ed-84ddd287f3bf"
   ]
  },
  {
   "cell_type": "markdown",
   "id": "f8ee06c6",
   "metadata": {},
   "source": [
    "QUESTION 6"
   ]
  },
  {
   "cell_type": "code",
   "execution_count": 35,
   "id": "22b87805",
   "metadata": {},
   "outputs": [
    {
     "data": {
      "image/png": "[encoded data removed]",
      "text/plain": [
       "<Figure size 640x480 with 2 Axes>"
      ]
     },
     "metadata": {},
     "output_type": "display_data"
    },
    {
     "data": {
      "image/png": "[encoded data removed]",
      "text/plain": [
       "<Figure size 640x480 with 2 Axes>"
      ]
     },
     "metadata": {},
     "output_type": "display_data"
    }
   ],
   "source": [
    "from sklearn.model_selection import train_test_split\n",
    "\n",
    "# Split the data into training and test sets\n",
    "X = ab_reduced_noNaN[['List Price', 'NumPages', 'Thick']]  # All features\n",
    "y = pd.get_dummies(ab_reduced_noNaN[\"Hard_or_Paper\"])['H']  # Target variable\n",
    "\n",
    "X_train, X_test, y_train, y_test = train_test_split(X, y, test_size=0.2, random_state=42)\n",
    "\n",
    "# Redefine X_train and X_test for clf and clf2\n",
    "X_train_clf = X_train[['List Price']]  # Features for clf\n",
    "X_test_clf = X_test[['List Price']]\n",
    "\n",
    "X_train_clf2 = X_train[['NumPages', 'Thick', 'List Price']]  # Features for clf2\n",
    "X_test_clf2 = X_test[['NumPages', 'Thick', 'List Price']]\n",
    "\n",
    "# Retrain models if necessary\n",
    "clf.fit(X_train_clf, y_train)\n",
    "clf2.fit(X_train_clf2, y_train)\n",
    "\n",
    "# Predictions for clf and clf2\n",
    "y_pred_clf = clf.predict(X_test_clf)\n",
    "y_pred_clf2 = clf2.predict(X_test_clf2)\n",
    "\n",
    "# Confusion matrices\n",
    "from sklearn.metrics import confusion_matrix, ConfusionMatrixDisplay\n",
    "import matplotlib.pyplot as plt\n",
    "\n",
    "# Confusion matrix for clf\n",
    "cm_clf = confusion_matrix(y_test, y_pred_clf)\n",
    "disp_clf = ConfusionMatrixDisplay(confusion_matrix=cm_clf, display_labels=[\"Paper\", \"Hard\"])\n",
    "disp_clf.plot(cmap=\"Blues\")\n",
    "plt.title(\"Confusion Matrix for clf (max_depth=2)\")\n",
    "plt.show()\n",
    "\n",
    "# Confusion matrix for clf2\n",
    "cm_clf2 = confusion_matrix(y_test, y_pred_clf2)\n",
    "disp_clf2 = ConfusionMatrixDisplay(confusion_matrix=cm_clf2, display_labels=[\"Paper\", \"Hard\"])\n",
    "disp_clf2.plot(cmap=\"Greens\")\n",
    "plt.title(\"Confusion Matrix for clf2 (max_depth=4)\")\n",
    "plt.show()\n",
    "\n"
   ]
  },
  {
   "cell_type": "markdown",
   "id": "5e7f02bc",
   "metadata": {},
   "source": [
    "Session Summary: In this session, we discussed how to evaluate two decision tree models (clf and clf2) by generating confusion matrices and calculating key performance metrics: sensitivity, specificity, and accuracy. We also visualized the confusion matrices using heatmaps for a clearer understanding of the models' performance. The code provided allows you to calculate and visualize these metrics, helping you assess how well each model predicts the target variable.\n",
    "\n",
    "Chatlog History: https://chatgpt.com/c/673e900f-4a68-800b-92ed-84ddd287f3bf"
   ]
  },
  {
   "cell_type": "markdown",
   "id": "91b4fce3",
   "metadata": {},
   "source": [
    "QUESTION 7"
   ]
  },
  {
   "cell_type": "markdown",
   "id": "dee75909",
   "metadata": {},
   "source": [
    "ConfusionMatrixDisplay(\n",
    "    confusion_matrix(ab_reduced_noNaN_train.your_actual_outcome_variable, \n",
    "                     clf.predict(ab_reduced_noNaN_train[['List Price']]), \n",
    "                     labels=[0, 1]), display_labels=[\"Paper\",\"Hard\"]).plot()\n",
    "\n",
    "\n",
    "ConfusionMatrixDisplay(\n",
    "    confusion_matrix(ab_reduced_noNaN_train.your_actual_outcome_variable, \n",
    "                     clf.predict(\n",
    "                         ab_reduced_noNaN_train[['NumPages','Thick','List Price']]), \n",
    "                     labels=[0, 1]), display_labels=[\"Paper\",\"Hard\"]).plot()\n",
    "\n",
    "The difference between these two confusion matrices is being caused by the different features they are being modelled from. The first one only has one feature that is List Price. The second has three features that are NumPages, Thick, and List Price. Having only one feature may cause the first model to be underfit. On the other hand, having three features may cause the second model to be overfit. The two confusion matrices from before for clf and clf2 are better beacuse they have more depth, are more complex, and have more interactions."
   ]
  },
  {
   "cell_type": "markdown",
   "id": "2d412baa",
   "metadata": {},
   "source": [
    "Session Summary: We discussed how using more features (NumPages, Thick, List Price) and increasing the depth of decision trees can improve model performance by allowing the model to capture more complex relationships in the data. The increased model complexity helps make more accurate predictions compared to simpler models with fewer features and shallower trees.\n",
    "\n",
    "Chatlog History: https://chatgpt.com/c/673e9495-7cb0-800b-888a-d4b7847f876a"
   ]
  },
  {
   "cell_type": "markdown",
   "id": "5c61a0fe",
   "metadata": {},
   "source": [
    "QUESTION 8"
   ]
  },
  {
   "cell_type": "code",
   "execution_count": 36,
   "id": "95ad2f2c",
   "metadata": {},
   "outputs": [
    {
     "data": {
      "image/png": "[encoded data removed]",
      "text/plain": [
       "<Figure size 1000x600 with 1 Axes>"
      ]
     },
     "metadata": {},
     "output_type": "display_data"
    },
    {
     "name": "stdout",
     "output_type": "stream",
     "text": [
      "The most important feature is: List Price (importance score: 0.4860)\n"
     ]
    }
   ],
   "source": [
    "import matplotlib.pyplot as plt\n",
    "import numpy as np\n",
    "\n",
    "# Assuming clf2 is already defined and trained\n",
    "feature_importances = clf2.feature_importances_\n",
    "feature_names = clf2.feature_names_in_\n",
    "\n",
    "# Find the most important feature\n",
    "most_important_idx = np.argmax(feature_importances)\n",
    "most_important_feature = feature_names[most_important_idx]\n",
    "\n",
    "# Plot the feature importances\n",
    "plt.figure(figsize=(10, 6))\n",
    "plt.barh(feature_names, feature_importances, color='skyblue')\n",
    "plt.xlabel('Importance Score')\n",
    "plt.ylabel('Features')\n",
    "plt.title('Feature Importances for clf2')\n",
    "plt.gca().invert_yaxis()  # To display the highest importance at the top\n",
    "plt.show()\n",
    "\n",
    "# Print the most important feature\n",
    "print(f\"The most important feature is: {most_important_feature} (importance score: {feature_importances[most_important_idx]:.4f})\")\n"
   ]
  },
  {
   "cell_type": "markdown",
   "id": "36edef24",
   "metadata": {},
   "source": [
    "Session Summary: In this session, we discussed how to visualize feature importances from a scikit-learn classification decision tree (clf2) using a bar chart. The importance scores from clf2.feature_importances_ were mapped to feature names from clf2.feature_names_in_ to identify which predictor variable is most influential in making predictions. I provided a code example to generate the visualization and determine the most important feature.\n",
    "\n",
    "Chatlog History: https://chatgpt.com/c/673ff06c-5f90-800b-be0c-cc3afba819bb"
   ]
  },
  {
   "cell_type": "markdown",
   "id": "b452bd34",
   "metadata": {},
   "source": [
    "QUESTION 9"
   ]
  },
  {
   "cell_type": "markdown",
   "id": "42417f4c",
   "metadata": {},
   "source": [
    "There is a difference between interpreting coefficients in linear model regression versus feature importances in decision trees. In linear model regression we assume that the relationship between a variable and outcome is linear which is how we get the coefficients. In decision trees feature importances show how effctive a feature is at improving a model’s prediction."
   ]
  },
  {
   "cell_type": "markdown",
   "id": "634de499",
   "metadata": {},
   "source": [
    "QUESTION 10"
   ]
  },
  {
   "cell_type": "markdown",
   "id": "39344f49",
   "metadata": {},
   "source": [
    "Yes, I have reviewed the course wiki-textbook and interacted with a ChatBot to help me understand all the material in the tutorial and lecture."
   ]
  }
 ],
 "metadata": {
  "kernelspec": {
   "display_name": "Python 3 (ipykernel)",
   "language": "python",
   "name": "python3"
  },
  "language_info": {
   "codemirror_mode": {
    "name": "ipython",
    "version": 3
   },
   "file_extension": ".py",
   "mimetype": "text/x-python",
   "name": "python",
   "nbconvert_exporter": "python",
   "pygments_lexer": "ipython3",
   "version": "3.11.6"
  }
 },
 "nbformat": 4,
 "nbformat_minor": 5
}
