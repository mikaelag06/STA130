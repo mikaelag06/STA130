{
 "cells": [
  {
   "cell_type": "code",
   "execution_count": 3,
   "id": "919a953c",
   "metadata": {
    "scrolled": false
   },
   "outputs": [
    {
     "data": {
      "text/plain": [
       "row_n           0\n",
       "id              1\n",
       "name            0\n",
       "gender          0\n",
       "species         0\n",
       "birthday        0\n",
       "personality     0\n",
       "song           11\n",
       "phrase          0\n",
       "full_id         0\n",
       "url             0\n",
       "dtype: int64"
      ]
     },
     "execution_count": 3,
     "metadata": {},
     "output_type": "execute_result"
    }
   ],
   "source": [
    "import pandas as pd\n",
    "url = \"https://raw.githubusercontent.com/rfordatascience/tidytuesday/master/data/2020/2020-05-05/villagers.csv\"\n",
    "df = pd.read_csv(url)\n",
    "df.isna().sum()"
   ]
  },
  {
   "cell_type": "code",
   "execution_count": 4,
   "id": "5277e1ea",
   "metadata": {},
   "outputs": [],
   "source": [
    "import pandas as pd"
   ]
  },
  {
   "cell_type": "code",
   "execution_count": 5,
   "id": "e8eccf9e",
   "metadata": {},
   "outputs": [],
   "source": [
    "url = \"https://raw.githubusercontent.com/rfordatascience/tidytuesday/master/data/2020/2020-05-05/villagers.csv\"\n",
    "data = pd.read_csv(url)"
   ]
  },
  {
   "cell_type": "code",
   "execution_count": 7,
   "id": "0fa6a33b",
   "metadata": {
    "scrolled": true
   },
   "outputs": [
    {
     "name": "stdout",
     "output_type": "stream",
     "text": [
      "Columns in the dataset:\n",
      "Index(['row_n', 'id', 'name', 'gender', 'species', 'birthday', 'personality',\n",
      "       'song', 'phrase', 'full_id', 'url'],\n",
      "      dtype='object')\n",
      "\n",
      "Total number of rows in the dataset:\n",
      "391\n"
     ]
    }
   ],
   "source": [
    "print(\"Columns in the dataset:\")\n",
    "print(data.columns)\n",
    "\n",
    "print(\"\\nTotal number of rows in the dataset:\")\n",
    "print(len(data))"
   ]
  },
  {
   "cell_type": "code",
   "execution_count": 8,
   "id": "edd22119",
   "metadata": {},
   "outputs": [],
   "source": [
    "# Observations are the entries of a data set and they represent a single case of the data being collected. "
   ]
  },
  {
   "cell_type": "code",
   "execution_count": 9,
   "id": "d1303e2f",
   "metadata": {},
   "outputs": [],
   "source": [
    "# Variables are the characteristics that give us important information about each observation."
   ]
  },
  {
   "cell_type": "code",
   "execution_count": 21,
   "id": "014050cd",
   "metadata": {},
   "outputs": [
    {
     "name": "stdout",
     "output_type": "stream",
     "text": [
      "species\n",
      "cat          23\n",
      "rabbit       20\n",
      "frog         18\n",
      "squirrel     18\n",
      "duck         17\n",
      "dog          16\n",
      "cub          16\n",
      "pig          15\n",
      "bear         15\n",
      "mouse        15\n",
      "horse        15\n",
      "bird         13\n",
      "penguin      13\n",
      "sheep        13\n",
      "elephant     11\n",
      "wolf         11\n",
      "ostrich      10\n",
      "deer         10\n",
      "eagle         9\n",
      "gorilla       9\n",
      "chicken       9\n",
      "koala         9\n",
      "goat          8\n",
      "hamster       8\n",
      "kangaroo      8\n",
      "monkey        8\n",
      "anteater      7\n",
      "hippo         7\n",
      "tiger         7\n",
      "alligator     7\n",
      "lion          7\n",
      "bull          6\n",
      "rhino         6\n",
      "cow           4\n",
      "octopus       3\n",
      "Name: count, dtype: int64\n"
     ]
    }
   ],
   "source": [
    "categorical_summary = villagers_df['species'].value_counts()\n",
    "print(categorical_summary)"
   ]
  },
  {
   "cell_type": "code",
   "execution_count": 38,
   "id": "6ae6d9ee",
   "metadata": {},
   "outputs": [
    {
     "name": "stdout",
     "output_type": "stream",
     "text": [
      "gender\n",
      "male      204\n",
      "female    187\n",
      "Name: count, dtype: int64\n"
     ]
    }
   ],
   "source": [
    "summary_female = villagers_df['gender'].value_counts()\n",
    "print(summary_female)"
   ]
  },
  {
   "cell_type": "code",
   "execution_count": 39,
   "id": "77993752",
   "metadata": {},
   "outputs": [
    {
     "name": "stdout",
     "output_type": "stream",
     "text": [
      "personality\n",
      "lazy      60\n",
      "normal    59\n",
      "cranky    55\n",
      "snooty    55\n",
      "jock      55\n",
      "peppy     49\n",
      "smug      34\n",
      "uchi      24\n",
      "Name: count, dtype: int64\n"
     ]
    }
   ],
   "source": [
    "summary_personality = villagers_df['personality'].value_counts()\n",
    "print(summary_personality)"
   ]
  },
  {
   "cell_type": "code",
   "execution_count": 40,
   "id": "8c30ce7e",
   "metadata": {},
   "outputs": [
    {
     "name": "stdout",
     "output_type": "stream",
     "text": [
      "Non-numeric columns: Index(['id', 'name', 'gender', 'species', 'birthday', 'personality', 'song',\n",
      "       'phrase', 'full_id', 'url'],\n",
      "      dtype='object')\n"
     ]
    }
   ],
   "source": [
    "non_numeric_columns = villagers_df.select_dtypes(exclude=[int, float]).columns\n",
    "print(\"Non-numeric columns:\", non_numeric_columns)"
   ]
  },
  {
   "cell_type": "code",
   "execution_count": 41,
   "id": "57668b21",
   "metadata": {},
   "outputs": [],
   "source": [
    "# these are the non-numeric values of my data set"
   ]
  },
  {
   "cell_type": "code",
   "execution_count": 42,
   "id": "38dd1924",
   "metadata": {},
   "outputs": [
    {
     "name": "stdout",
     "output_type": "stream",
     "text": [
      "Missing values in numeric columns:\n",
      " row_n    0\n",
      "dtype: int64\n"
     ]
    }
   ],
   "source": [
    "missing_numeric = villagers_df.select_dtypes(include=[int, float]).isna().sum()\n",
    "print(\"Missing values in numeric columns:\\n\", missing_numeric)"
   ]
  },
  {
   "cell_type": "code",
   "execution_count": 43,
   "id": "ebea7412",
   "metadata": {},
   "outputs": [],
   "source": [
    "# there are no missing values in the numeric columns of my data set"
   ]
  },
  {
   "cell_type": "code",
   "execution_count": 44,
   "id": "dd5466fa",
   "metadata": {},
   "outputs": [
    {
     "name": "stdout",
     "output_type": "stream",
     "text": [
      "(391, 11)\n"
     ]
    }
   ],
   "source": [
    "print(df.shape)"
   ]
  },
  {
   "cell_type": "code",
   "execution_count": 45,
   "id": "3723dc4a",
   "metadata": {},
   "outputs": [
    {
     "name": "stdout",
     "output_type": "stream",
     "text": [
      "<bound method NDFrame.describe of      row_n        id      name  gender    species birthday personality  \\\n",
      "0        2   admiral   Admiral    male       bird     1-27      cranky   \n",
      "1        3   agent-s   Agent S  female   squirrel      7-2       peppy   \n",
      "2        4     agnes     Agnes  female        pig     4-21        uchi   \n",
      "3        6        al        Al    male    gorilla    10-18        lazy   \n",
      "4        7   alfonso   Alfonso    male  alligator      6-9        lazy   \n",
      "..     ...       ...       ...     ...        ...      ...         ...   \n",
      "386    475    winnie    Winnie  female      horse     1-31       peppy   \n",
      "387    477  wolfgang  Wolfgang    male       wolf    11-25      cranky   \n",
      "388    480      yuka      Yuka  female      koala     7-20      snooty   \n",
      "389    481      zell      Zell    male       deer      6-7        smug   \n",
      "390    483    zucker    Zucker    male    octopus      3-8        lazy   \n",
      "\n",
      "                song    phrase            full_id  \\\n",
      "0         Steep Hill   aye aye   villager-admiral   \n",
      "1            DJ K.K.  sidekick   villager-agent-s   \n",
      "2         K.K. House   snuffle     villager-agnes   \n",
      "3         Steep Hill   Ayyeeee        villager-al   \n",
      "4        Forest Life  it'sa me   villager-alfonso   \n",
      "..               ...       ...                ...   \n",
      "386         My Place    hay-OK    villager-winnie   \n",
      "387        K.K. Song   snarrrl  villager-wolfgang   \n",
      "388     Soulful K.K.   tsk tsk      villager-yuka   \n",
      "389         K.K. D&B     pronk      villager-zell   \n",
      "390  Spring Blossoms     bloop    villager-zucker   \n",
      "\n",
      "                                                   url  \n",
      "0    https://villagerdb.com/images/villagers/thumb/...  \n",
      "1    https://villagerdb.com/images/villagers/thumb/...  \n",
      "2    https://villagerdb.com/images/villagers/thumb/...  \n",
      "3    https://villagerdb.com/images/villagers/thumb/...  \n",
      "4    https://villagerdb.com/images/villagers/thumb/...  \n",
      "..                                                 ...  \n",
      "386  https://villagerdb.com/images/villagers/thumb/...  \n",
      "387  https://villagerdb.com/images/villagers/thumb/...  \n",
      "388  https://villagerdb.com/images/villagers/thumb/...  \n",
      "389  https://villagerdb.com/images/villagers/thumb/...  \n",
      "390  https://villagerdb.com/images/villagers/thumb/...  \n",
      "\n",
      "[391 rows x 11 columns]>\n"
     ]
    }
   ],
   "source": [
    "print(df.describe)"
   ]
  },
  {
   "cell_type": "code",
   "execution_count": 47,
   "id": "bcb35af5",
   "metadata": {},
   "outputs": [],
   "source": [
    "# The discrepancy between the two functions are the difference in the detail of their outputs.\n",
    "# df.shape only gives the number of rows and columns. Nothing more.\n",
    "# df.describe() is the same as df as it provides the full data set. This set can be very overwhelming."
   ]
  },
  {
   "cell_type": "code",
   "execution_count": 48,
   "id": "c17d095d",
   "metadata": {},
   "outputs": [],
   "source": [
    "# Attributes are variables that contain the data of an object."
   ]
  },
  {
   "cell_type": "code",
   "execution_count": 49,
   "id": "62cb5ae1",
   "metadata": {},
   "outputs": [],
   "source": [
    "# Methods are functions or actions that an object can perform. "
   ]
  },
  {
   "cell_type": "code",
   "execution_count": 50,
   "id": "44343e22",
   "metadata": {},
   "outputs": [],
   "source": [
    "# Error Troubleshooting:\n",
    "\n",
    "# NameError: We discussed errors related to undefined variables, such as villagers_df and bird, and how to properly reference DataFrame columns and handle method calls in pandas.\n",
    "# Pandas DataFrame Summaries:\n",
    "\n",
    "# Numerical Summary: You can use df.describe() to get summary statistics for numerical columns.\n",
    "# Categorical Summary: Use df['column_name'].value_counts() for summarizing categorical columns.\n",
    "# General Summary: Use df.info() to get an overview of the DataFrame, including column names, data types, and non-null counts.\n",
    "# Code Examples:\n",
    "\n",
    "# We provided examples to view data, handle missing values, and understand the discrepancies between DataFrame size (df.shape) and the output of df.describe().\n",
    "# Attributes vs. Methods:\n",
    "\n",
    "# Attributes: Accessed without parentheses (e.g., df.shape).\n",
    "#Methods: Accessed with parentheses (e.g., df.describe()), perform actions, and can modify the object or return results."
   ]
  },
  {
   "cell_type": "code",
   "execution_count": 51,
   "id": "455e5c4b",
   "metadata": {},
   "outputs": [],
   "source": [
    "# https://chatgpt.com/c/66e24f96-7024-800b-bc2c-1e36490301f5 (chat log history)"
   ]
  },
  {
   "cell_type": "code",
   "execution_count": 52,
   "id": "f50997b4",
   "metadata": {},
   "outputs": [],
   "source": [
    "# ‘count’: describes the number of present values\n",
    "# ‘mean”: describes the average value\n",
    "# ‘std’: describes standard deviation\n",
    "# ‘min’: decibels min value\n",
    "# ’25%’: describes the 25th percentile\n",
    "# ’50%’: describes the 50th percentile\n",
    "# ’75%’: describes the 75th percentile\n",
    "# ‘max’: describes the max value"
   ]
  },
  {
   "cell_type": "code",
   "execution_count": 53,
   "id": "11f11bcb",
   "metadata": {},
   "outputs": [],
   "source": [
    "# Scenario: a data set decribes grades of the weighted assignments for students in STA130\n",
    "# 1) df.dropna would be preffered if a student dropped a class. The row represnting their data would then be dropped.\n",
    "# 2) del df['col'] would be preffered if an assigment for some reason was no longer weighted. The column representing the data would then be dropped.\n",
    "# 3) Applying del df['col'] before df.dropna() when both are used together could be important dropping a column reduces the data size much more than dropping a single row. This way is more efficient."
   ]
  },
  {
   "cell_type": "code",
   "execution_count": 78,
   "id": "917e1e7b",
   "metadata": {},
   "outputs": [
    {
     "name": "stdout",
     "output_type": "stream",
     "text": [
      "     row_n        id birthday personality             song    phrase  \\\n",
      "0        2   admiral     1-27      cranky       Steep Hill   aye aye   \n",
      "1        3   agent-s      7-2       peppy          DJ K.K.  sidekick   \n",
      "2        4     agnes     4-21        uchi       K.K. House   snuffle   \n",
      "3        6        al    10-18        lazy       Steep Hill   Ayyeeee   \n",
      "4        7   alfonso      6-9        lazy      Forest Life  it'sa me   \n",
      "..     ...       ...      ...         ...              ...       ...   \n",
      "386    475    winnie     1-31       peppy         My Place    hay-OK   \n",
      "387    477  wolfgang    11-25      cranky        K.K. Song   snarrrl   \n",
      "388    480      yuka     7-20      snooty     Soulful K.K.   tsk tsk   \n",
      "389    481      zell      6-7        smug         K.K. D&B     pronk   \n",
      "390    483    zucker      3-8        lazy  Spring Blossoms     bloop   \n",
      "\n",
      "               full_id                                                url  \n",
      "0     villager-admiral  https://villagerdb.com/images/villagers/thumb/...  \n",
      "1     villager-agent-s  https://villagerdb.com/images/villagers/thumb/...  \n",
      "2       villager-agnes  https://villagerdb.com/images/villagers/thumb/...  \n",
      "3          villager-al  https://villagerdb.com/images/villagers/thumb/...  \n",
      "4     villager-alfonso  https://villagerdb.com/images/villagers/thumb/...  \n",
      "..                 ...                                                ...  \n",
      "386    villager-winnie  https://villagerdb.com/images/villagers/thumb/...  \n",
      "387  villager-wolfgang  https://villagerdb.com/images/villagers/thumb/...  \n",
      "388      villager-yuka  https://villagerdb.com/images/villagers/thumb/...  \n",
      "389      villager-zell  https://villagerdb.com/images/villagers/thumb/...  \n",
      "390    villager-zucker  https://villagerdb.com/images/villagers/thumb/...  \n",
      "\n",
      "[391 rows x 8 columns]\n"
     ]
    }
   ],
   "source": [
    "print(df) # before"
   ]
  },
  {
   "cell_type": "code",
   "execution_count": 88,
   "id": "61a13b6e",
   "metadata": {},
   "outputs": [],
   "source": [
    "del df['personality']"
   ]
  },
  {
   "cell_type": "code",
   "execution_count": 100,
   "id": "3164c31a",
   "metadata": {},
   "outputs": [
    {
     "data": {
      "text/html": [
       "<div>\n",
       "<style scoped>\n",
       "    .dataframe tbody tr th:only-of-type {\n",
       "        vertical-align: middle;\n",
       "    }\n",
       "\n",
       "    .dataframe tbody tr th {\n",
       "        vertical-align: top;\n",
       "    }\n",
       "\n",
       "    .dataframe thead th {\n",
       "        text-align: right;\n",
       "    }\n",
       "</style>\n",
       "<table border=\"1\" class=\"dataframe\">\n",
       "  <thead>\n",
       "    <tr style=\"text-align: right;\">\n",
       "      <th></th>\n",
       "      <th>row_n</th>\n",
       "      <th>song</th>\n",
       "      <th>phrase</th>\n",
       "      <th>full_id</th>\n",
       "      <th>url</th>\n",
       "    </tr>\n",
       "  </thead>\n",
       "  <tbody>\n",
       "    <tr>\n",
       "      <th>0</th>\n",
       "      <td>2</td>\n",
       "      <td>Steep Hill</td>\n",
       "      <td>aye aye</td>\n",
       "      <td>villager-admiral</td>\n",
       "      <td>https://villagerdb.com/images/villagers/thumb/...</td>\n",
       "    </tr>\n",
       "    <tr>\n",
       "      <th>3</th>\n",
       "      <td>6</td>\n",
       "      <td>Steep Hill</td>\n",
       "      <td>Ayyeeee</td>\n",
       "      <td>villager-al</td>\n",
       "      <td>https://villagerdb.com/images/villagers/thumb/...</td>\n",
       "    </tr>\n",
       "    <tr>\n",
       "      <th>4</th>\n",
       "      <td>7</td>\n",
       "      <td>Forest Life</td>\n",
       "      <td>it'sa me</td>\n",
       "      <td>villager-alfonso</td>\n",
       "      <td>https://villagerdb.com/images/villagers/thumb/...</td>\n",
       "    </tr>\n",
       "    <tr>\n",
       "      <th>5</th>\n",
       "      <td>8</td>\n",
       "      <td>Surfin' K.K.</td>\n",
       "      <td>guvnor</td>\n",
       "      <td>villager-alice</td>\n",
       "      <td>https://villagerdb.com/images/villagers/thumb/...</td>\n",
       "    </tr>\n",
       "    <tr>\n",
       "      <th>6</th>\n",
       "      <td>9</td>\n",
       "      <td>K.K. Chorale</td>\n",
       "      <td>graaagh</td>\n",
       "      <td>villager-alli</td>\n",
       "      <td>https://villagerdb.com/images/villagers/thumb/...</td>\n",
       "    </tr>\n",
       "    <tr>\n",
       "      <th>...</th>\n",
       "      <td>...</td>\n",
       "      <td>...</td>\n",
       "      <td>...</td>\n",
       "      <td>...</td>\n",
       "      <td>...</td>\n",
       "    </tr>\n",
       "    <tr>\n",
       "      <th>386</th>\n",
       "      <td>475</td>\n",
       "      <td>My Place</td>\n",
       "      <td>hay-OK</td>\n",
       "      <td>villager-winnie</td>\n",
       "      <td>https://villagerdb.com/images/villagers/thumb/...</td>\n",
       "    </tr>\n",
       "    <tr>\n",
       "      <th>387</th>\n",
       "      <td>477</td>\n",
       "      <td>K.K. Song</td>\n",
       "      <td>snarrrl</td>\n",
       "      <td>villager-wolfgang</td>\n",
       "      <td>https://villagerdb.com/images/villagers/thumb/...</td>\n",
       "    </tr>\n",
       "    <tr>\n",
       "      <th>388</th>\n",
       "      <td>480</td>\n",
       "      <td>Soulful K.K.</td>\n",
       "      <td>tsk tsk</td>\n",
       "      <td>villager-yuka</td>\n",
       "      <td>https://villagerdb.com/images/villagers/thumb/...</td>\n",
       "    </tr>\n",
       "    <tr>\n",
       "      <th>389</th>\n",
       "      <td>481</td>\n",
       "      <td>K.K. D&amp;B</td>\n",
       "      <td>pronk</td>\n",
       "      <td>villager-zell</td>\n",
       "      <td>https://villagerdb.com/images/villagers/thumb/...</td>\n",
       "    </tr>\n",
       "    <tr>\n",
       "      <th>390</th>\n",
       "      <td>483</td>\n",
       "      <td>Spring Blossoms</td>\n",
       "      <td>bloop</td>\n",
       "      <td>villager-zucker</td>\n",
       "      <td>https://villagerdb.com/images/villagers/thumb/...</td>\n",
       "    </tr>\n",
       "  </tbody>\n",
       "</table>\n",
       "<p>389 rows × 5 columns</p>\n",
       "</div>"
      ],
      "text/plain": [
       "     row_n             song    phrase            full_id  \\\n",
       "0        2       Steep Hill   aye aye   villager-admiral   \n",
       "3        6       Steep Hill   Ayyeeee        villager-al   \n",
       "4        7      Forest Life  it'sa me   villager-alfonso   \n",
       "5        8     Surfin' K.K.    guvnor     villager-alice   \n",
       "6        9     K.K. Chorale   graaagh      villager-alli   \n",
       "..     ...              ...       ...                ...   \n",
       "386    475         My Place    hay-OK    villager-winnie   \n",
       "387    477        K.K. Song   snarrrl  villager-wolfgang   \n",
       "388    480     Soulful K.K.   tsk tsk      villager-yuka   \n",
       "389    481         K.K. D&B     pronk      villager-zell   \n",
       "390    483  Spring Blossoms     bloop    villager-zucker   \n",
       "\n",
       "                                                   url  \n",
       "0    https://villagerdb.com/images/villagers/thumb/...  \n",
       "3    https://villagerdb.com/images/villagers/thumb/...  \n",
       "4    https://villagerdb.com/images/villagers/thumb/...  \n",
       "5    https://villagerdb.com/images/villagers/thumb/...  \n",
       "6    https://villagerdb.com/images/villagers/thumb/...  \n",
       "..                                                 ...  \n",
       "386  https://villagerdb.com/images/villagers/thumb/...  \n",
       "387  https://villagerdb.com/images/villagers/thumb/...  \n",
       "388  https://villagerdb.com/images/villagers/thumb/...  \n",
       "389  https://villagerdb.com/images/villagers/thumb/...  \n",
       "390  https://villagerdb.com/images/villagers/thumb/...  \n",
       "\n",
       "[389 rows x 5 columns]"
      ]
     },
     "execution_count": 100,
     "metadata": {},
     "output_type": "execute_result"
    }
   ],
   "source": [
    "df.drop([1, 2]) # after"
   ]
  },
  {
   "cell_type": "code",
   "execution_count": null,
   "id": "57091723",
   "metadata": {},
   "outputs": [],
   "source": [
    "# df.groupby(\"col1\")[\"col2\"].describe() will give a summary of column 2 defined by the values of column 1"
   ]
  },
  {
   "cell_type": "code",
   "execution_count": 3,
   "id": "a2e7aa5c",
   "metadata": {},
   "outputs": [],
   "source": [
    "import pandas as pd\n",
    "url = 'https://raw.githubusercontent.com/mwaskom/seaborn-data/master/titanic.csv'\n",
    "df = pd.read_csv(url)"
   ]
  },
  {
   "cell_type": "code",
   "execution_count": 4,
   "id": "0511aa9d",
   "metadata": {},
   "outputs": [
    {
     "name": "stdout",
     "output_type": "stream",
     "text": [
      "     survived  pclass     sex   age  sibsp  parch     fare embarked   class  \\\n",
      "0           0       3    male  22.0      1      0   7.2500        S   Third   \n",
      "1           1       1  female  38.0      1      0  71.2833        C   First   \n",
      "2           1       3  female  26.0      0      0   7.9250        S   Third   \n",
      "3           1       1  female  35.0      1      0  53.1000        S   First   \n",
      "4           0       3    male  35.0      0      0   8.0500        S   Third   \n",
      "..        ...     ...     ...   ...    ...    ...      ...      ...     ...   \n",
      "886         0       2    male  27.0      0      0  13.0000        S  Second   \n",
      "887         1       1  female  19.0      0      0  30.0000        S   First   \n",
      "888         0       3  female   NaN      1      2  23.4500        S   Third   \n",
      "889         1       1    male  26.0      0      0  30.0000        C   First   \n",
      "890         0       3    male  32.0      0      0   7.7500        Q   Third   \n",
      "\n",
      "       who  adult_male deck  embark_town alive  alone  \n",
      "0      man        True  NaN  Southampton    no  False  \n",
      "1    woman       False    C    Cherbourg   yes  False  \n",
      "2    woman       False  NaN  Southampton   yes   True  \n",
      "3    woman       False    C  Southampton   yes  False  \n",
      "4      man        True  NaN  Southampton    no   True  \n",
      "..     ...         ...  ...          ...   ...    ...  \n",
      "886    man        True  NaN  Southampton    no   True  \n",
      "887  woman       False    B  Southampton   yes   True  \n",
      "888  woman       False  NaN  Southampton    no  False  \n",
      "889    man        True    C    Cherbourg   yes   True  \n",
      "890    man        True  NaN   Queenstown    no   True  \n",
      "\n",
      "[891 rows x 15 columns]\n"
     ]
    }
   ],
   "source": [
    "print(df)"
   ]
  },
  {
   "cell_type": "code",
   "execution_count": 5,
   "id": "ccd2a57a",
   "metadata": {},
   "outputs": [
    {
     "data": {
      "text/html": [
       "<div>\n",
       "<style scoped>\n",
       "    .dataframe tbody tr th:only-of-type {\n",
       "        vertical-align: middle;\n",
       "    }\n",
       "\n",
       "    .dataframe tbody tr th {\n",
       "        vertical-align: top;\n",
       "    }\n",
       "\n",
       "    .dataframe thead th {\n",
       "        text-align: right;\n",
       "    }\n",
       "</style>\n",
       "<table border=\"1\" class=\"dataframe\">\n",
       "  <thead>\n",
       "    <tr style=\"text-align: right;\">\n",
       "      <th></th>\n",
       "      <th>count</th>\n",
       "      <th>mean</th>\n",
       "      <th>std</th>\n",
       "      <th>min</th>\n",
       "      <th>25%</th>\n",
       "      <th>50%</th>\n",
       "      <th>75%</th>\n",
       "      <th>max</th>\n",
       "    </tr>\n",
       "    <tr>\n",
       "      <th>sex</th>\n",
       "      <th></th>\n",
       "      <th></th>\n",
       "      <th></th>\n",
       "      <th></th>\n",
       "      <th></th>\n",
       "      <th></th>\n",
       "      <th></th>\n",
       "      <th></th>\n",
       "    </tr>\n",
       "  </thead>\n",
       "  <tbody>\n",
       "    <tr>\n",
       "      <th>female</th>\n",
       "      <td>261.0</td>\n",
       "      <td>27.915709</td>\n",
       "      <td>14.110146</td>\n",
       "      <td>0.75</td>\n",
       "      <td>18.0</td>\n",
       "      <td>27.0</td>\n",
       "      <td>37.0</td>\n",
       "      <td>63.0</td>\n",
       "    </tr>\n",
       "    <tr>\n",
       "      <th>male</th>\n",
       "      <td>453.0</td>\n",
       "      <td>30.726645</td>\n",
       "      <td>14.678201</td>\n",
       "      <td>0.42</td>\n",
       "      <td>21.0</td>\n",
       "      <td>29.0</td>\n",
       "      <td>39.0</td>\n",
       "      <td>80.0</td>\n",
       "    </tr>\n",
       "  </tbody>\n",
       "</table>\n",
       "</div>"
      ],
      "text/plain": [
       "        count       mean        std   min   25%   50%   75%   max\n",
       "sex                                                              \n",
       "female  261.0  27.915709  14.110146  0.75  18.0  27.0  37.0  63.0\n",
       "male    453.0  30.726645  14.678201  0.42  21.0  29.0  39.0  80.0"
      ]
     },
     "execution_count": 5,
     "metadata": {},
     "output_type": "execute_result"
    }
   ],
   "source": [
    "df.groupby(\"sex\")[\"age\"].describe()"
   ]
  },
  {
   "cell_type": "code",
   "execution_count": 6,
   "id": "1df1267b",
   "metadata": {},
   "outputs": [],
   "source": [
    "# The two describe something fundamentally different because df.decribe() shows missing data and df.groupby(\"col1\")[\"col2\"].describe() groups datat from one column to calculate staistics for another"
   ]
  },
  {
   "cell_type": "code",
   "execution_count": 8,
   "id": "2181022f",
   "metadata": {},
   "outputs": [
    {
     "ename": "NameError",
     "evalue": "name 'titanics' is not defined",
     "output_type": "error",
     "traceback": [
      "\u001b[0;31m---------------------------------------------------------------------------\u001b[0m",
      "\u001b[0;31mNameError\u001b[0m                                 Traceback (most recent call last)",
      "Cell \u001b[0;32mIn[8], line 1\u001b[0m\n\u001b[0;32m----> 1\u001b[0m \u001b[43mtitanics\u001b[49m\u001b[38;5;241m.\u001b[39mcsv\n",
      "\u001b[0;31mNameError\u001b[0m: name 'titanics' is not defined"
     ]
    }
   ],
   "source": [
    "titanics.csv"
   ]
  },
  {
   "cell_type": "code",
   "execution_count": 9,
   "id": "157c4961",
   "metadata": {},
   "outputs": [
    {
     "ename": "NameError",
     "evalue": "name 'DF' is not defined",
     "output_type": "error",
     "traceback": [
      "\u001b[0;31m---------------------------------------------------------------------------\u001b[0m",
      "\u001b[0;31mNameError\u001b[0m                                 Traceback (most recent call last)",
      "Cell \u001b[0;32mIn[9], line 1\u001b[0m\n\u001b[0;32m----> 1\u001b[0m \u001b[43mDF\u001b[49m\u001b[38;5;241m.\u001b[39mgroupby(\u001b[38;5;124m\"\u001b[39m\u001b[38;5;124mcol1\u001b[39m\u001b[38;5;124m\"\u001b[39m)[\u001b[38;5;124m\"\u001b[39m\u001b[38;5;124mcol2\u001b[39m\u001b[38;5;124m\"\u001b[39m]\u001b[38;5;241m.\u001b[39mdescribe()\n",
      "\u001b[0;31mNameError\u001b[0m: name 'DF' is not defined"
     ]
    }
   ],
   "source": [
    "DF.groupby(\"col1\")[\"col2\"].describe()"
   ]
  },
  {
   "cell_type": "code",
   "execution_count": 10,
   "id": "fd2e8096",
   "metadata": {},
   "outputs": [
    {
     "ename": "SyntaxError",
     "evalue": "incomplete input (4098100527.py, line 1)",
     "output_type": "error",
     "traceback": [
      "\u001b[0;36m  Cell \u001b[0;32mIn[10], line 1\u001b[0;36m\u001b[0m\n\u001b[0;31m    pd.read_csv(url\u001b[0m\n\u001b[0m                   ^\u001b[0m\n\u001b[0;31mSyntaxError\u001b[0m\u001b[0;31m:\u001b[0m incomplete input\n"
     ]
    }
   ],
   "source": [
    "pd.read_csv(url"
   ]
  },
  {
   "cell_type": "code",
   "execution_count": 11,
   "id": "e63e2009",
   "metadata": {},
   "outputs": [
    {
     "ename": "KeyError",
     "evalue": "'col1'",
     "output_type": "error",
     "traceback": [
      "\u001b[0;31m---------------------------------------------------------------------------\u001b[0m",
      "\u001b[0;31mKeyError\u001b[0m                                  Traceback (most recent call last)",
      "Cell \u001b[0;32mIn[11], line 1\u001b[0m\n\u001b[0;32m----> 1\u001b[0m \u001b[43mdf\u001b[49m\u001b[38;5;241;43m.\u001b[39;49m\u001b[43mgroupby\u001b[49m\u001b[43m(\u001b[49m\u001b[38;5;124;43m\"\u001b[39;49m\u001b[38;5;124;43mcol1\u001b[39;49m\u001b[38;5;124;43m\"\u001b[39;49m\u001b[43m)\u001b[49m[\u001b[38;5;124m\"\u001b[39m\u001b[38;5;124mcol2\u001b[39m\u001b[38;5;124m\"\u001b[39m]\u001b[38;5;241m.\u001b[39mdescrible()\n",
      "File \u001b[0;32m/opt/conda/lib/python3.11/site-packages/pandas/core/frame.py:8869\u001b[0m, in \u001b[0;36mDataFrame.groupby\u001b[0;34m(self, by, axis, level, as_index, sort, group_keys, observed, dropna)\u001b[0m\n\u001b[1;32m   8866\u001b[0m \u001b[38;5;28;01mif\u001b[39;00m level \u001b[38;5;129;01mis\u001b[39;00m \u001b[38;5;28;01mNone\u001b[39;00m \u001b[38;5;129;01mand\u001b[39;00m by \u001b[38;5;129;01mis\u001b[39;00m \u001b[38;5;28;01mNone\u001b[39;00m:\n\u001b[1;32m   8867\u001b[0m     \u001b[38;5;28;01mraise\u001b[39;00m \u001b[38;5;167;01mTypeError\u001b[39;00m(\u001b[38;5;124m\"\u001b[39m\u001b[38;5;124mYou have to supply one of \u001b[39m\u001b[38;5;124m'\u001b[39m\u001b[38;5;124mby\u001b[39m\u001b[38;5;124m'\u001b[39m\u001b[38;5;124m and \u001b[39m\u001b[38;5;124m'\u001b[39m\u001b[38;5;124mlevel\u001b[39m\u001b[38;5;124m'\u001b[39m\u001b[38;5;124m\"\u001b[39m)\n\u001b[0;32m-> 8869\u001b[0m \u001b[38;5;28;01mreturn\u001b[39;00m \u001b[43mDataFrameGroupBy\u001b[49m\u001b[43m(\u001b[49m\n\u001b[1;32m   8870\u001b[0m \u001b[43m    \u001b[49m\u001b[43mobj\u001b[49m\u001b[38;5;241;43m=\u001b[39;49m\u001b[38;5;28;43mself\u001b[39;49m\u001b[43m,\u001b[49m\n\u001b[1;32m   8871\u001b[0m \u001b[43m    \u001b[49m\u001b[43mkeys\u001b[49m\u001b[38;5;241;43m=\u001b[39;49m\u001b[43mby\u001b[49m\u001b[43m,\u001b[49m\n\u001b[1;32m   8872\u001b[0m \u001b[43m    \u001b[49m\u001b[43maxis\u001b[49m\u001b[38;5;241;43m=\u001b[39;49m\u001b[43maxis\u001b[49m\u001b[43m,\u001b[49m\n\u001b[1;32m   8873\u001b[0m \u001b[43m    \u001b[49m\u001b[43mlevel\u001b[49m\u001b[38;5;241;43m=\u001b[39;49m\u001b[43mlevel\u001b[49m\u001b[43m,\u001b[49m\n\u001b[1;32m   8874\u001b[0m \u001b[43m    \u001b[49m\u001b[43mas_index\u001b[49m\u001b[38;5;241;43m=\u001b[39;49m\u001b[43mas_index\u001b[49m\u001b[43m,\u001b[49m\n\u001b[1;32m   8875\u001b[0m \u001b[43m    \u001b[49m\u001b[43msort\u001b[49m\u001b[38;5;241;43m=\u001b[39;49m\u001b[43msort\u001b[49m\u001b[43m,\u001b[49m\n\u001b[1;32m   8876\u001b[0m \u001b[43m    \u001b[49m\u001b[43mgroup_keys\u001b[49m\u001b[38;5;241;43m=\u001b[39;49m\u001b[43mgroup_keys\u001b[49m\u001b[43m,\u001b[49m\n\u001b[1;32m   8877\u001b[0m \u001b[43m    \u001b[49m\u001b[43mobserved\u001b[49m\u001b[38;5;241;43m=\u001b[39;49m\u001b[43mobserved\u001b[49m\u001b[43m,\u001b[49m\n\u001b[1;32m   8878\u001b[0m \u001b[43m    \u001b[49m\u001b[43mdropna\u001b[49m\u001b[38;5;241;43m=\u001b[39;49m\u001b[43mdropna\u001b[49m\u001b[43m,\u001b[49m\n\u001b[1;32m   8879\u001b[0m \u001b[43m\u001b[49m\u001b[43m)\u001b[49m\n",
      "File \u001b[0;32m/opt/conda/lib/python3.11/site-packages/pandas/core/groupby/groupby.py:1278\u001b[0m, in \u001b[0;36mGroupBy.__init__\u001b[0;34m(self, obj, keys, axis, level, grouper, exclusions, selection, as_index, sort, group_keys, observed, dropna)\u001b[0m\n\u001b[1;32m   1275\u001b[0m \u001b[38;5;28mself\u001b[39m\u001b[38;5;241m.\u001b[39mdropna \u001b[38;5;241m=\u001b[39m dropna\n\u001b[1;32m   1277\u001b[0m \u001b[38;5;28;01mif\u001b[39;00m grouper \u001b[38;5;129;01mis\u001b[39;00m \u001b[38;5;28;01mNone\u001b[39;00m:\n\u001b[0;32m-> 1278\u001b[0m     grouper, exclusions, obj \u001b[38;5;241m=\u001b[39m \u001b[43mget_grouper\u001b[49m\u001b[43m(\u001b[49m\n\u001b[1;32m   1279\u001b[0m \u001b[43m        \u001b[49m\u001b[43mobj\u001b[49m\u001b[43m,\u001b[49m\n\u001b[1;32m   1280\u001b[0m \u001b[43m        \u001b[49m\u001b[43mkeys\u001b[49m\u001b[43m,\u001b[49m\n\u001b[1;32m   1281\u001b[0m \u001b[43m        \u001b[49m\u001b[43maxis\u001b[49m\u001b[38;5;241;43m=\u001b[39;49m\u001b[43maxis\u001b[49m\u001b[43m,\u001b[49m\n\u001b[1;32m   1282\u001b[0m \u001b[43m        \u001b[49m\u001b[43mlevel\u001b[49m\u001b[38;5;241;43m=\u001b[39;49m\u001b[43mlevel\u001b[49m\u001b[43m,\u001b[49m\n\u001b[1;32m   1283\u001b[0m \u001b[43m        \u001b[49m\u001b[43msort\u001b[49m\u001b[38;5;241;43m=\u001b[39;49m\u001b[43msort\u001b[49m\u001b[43m,\u001b[49m\n\u001b[1;32m   1284\u001b[0m \u001b[43m        \u001b[49m\u001b[43mobserved\u001b[49m\u001b[38;5;241;43m=\u001b[39;49m\u001b[38;5;28;43;01mFalse\u001b[39;49;00m\u001b[43m \u001b[49m\u001b[38;5;28;43;01mif\u001b[39;49;00m\u001b[43m \u001b[49m\u001b[43mobserved\u001b[49m\u001b[43m \u001b[49m\u001b[38;5;129;43;01mis\u001b[39;49;00m\u001b[43m \u001b[49m\u001b[43mlib\u001b[49m\u001b[38;5;241;43m.\u001b[39;49m\u001b[43mno_default\u001b[49m\u001b[43m \u001b[49m\u001b[38;5;28;43;01melse\u001b[39;49;00m\u001b[43m \u001b[49m\u001b[43mobserved\u001b[49m\u001b[43m,\u001b[49m\n\u001b[1;32m   1285\u001b[0m \u001b[43m        \u001b[49m\u001b[43mdropna\u001b[49m\u001b[38;5;241;43m=\u001b[39;49m\u001b[38;5;28;43mself\u001b[39;49m\u001b[38;5;241;43m.\u001b[39;49m\u001b[43mdropna\u001b[49m\u001b[43m,\u001b[49m\n\u001b[1;32m   1286\u001b[0m \u001b[43m    \u001b[49m\u001b[43m)\u001b[49m\n\u001b[1;32m   1288\u001b[0m \u001b[38;5;28;01mif\u001b[39;00m observed \u001b[38;5;129;01mis\u001b[39;00m lib\u001b[38;5;241m.\u001b[39mno_default:\n\u001b[1;32m   1289\u001b[0m     \u001b[38;5;28;01mif\u001b[39;00m \u001b[38;5;28many\u001b[39m(ping\u001b[38;5;241m.\u001b[39m_passed_categorical \u001b[38;5;28;01mfor\u001b[39;00m ping \u001b[38;5;129;01min\u001b[39;00m grouper\u001b[38;5;241m.\u001b[39mgroupings):\n",
      "File \u001b[0;32m/opt/conda/lib/python3.11/site-packages/pandas/core/groupby/grouper.py:1009\u001b[0m, in \u001b[0;36mget_grouper\u001b[0;34m(obj, key, axis, level, sort, observed, validate, dropna)\u001b[0m\n\u001b[1;32m   1007\u001b[0m         in_axis, level, gpr \u001b[38;5;241m=\u001b[39m \u001b[38;5;28;01mFalse\u001b[39;00m, gpr, \u001b[38;5;28;01mNone\u001b[39;00m\n\u001b[1;32m   1008\u001b[0m     \u001b[38;5;28;01melse\u001b[39;00m:\n\u001b[0;32m-> 1009\u001b[0m         \u001b[38;5;28;01mraise\u001b[39;00m \u001b[38;5;167;01mKeyError\u001b[39;00m(gpr)\n\u001b[1;32m   1010\u001b[0m \u001b[38;5;28;01melif\u001b[39;00m \u001b[38;5;28misinstance\u001b[39m(gpr, Grouper) \u001b[38;5;129;01mand\u001b[39;00m gpr\u001b[38;5;241m.\u001b[39mkey \u001b[38;5;129;01mis\u001b[39;00m \u001b[38;5;129;01mnot\u001b[39;00m \u001b[38;5;28;01mNone\u001b[39;00m:\n\u001b[1;32m   1011\u001b[0m     \u001b[38;5;66;03m# Add key to exclusions\u001b[39;00m\n\u001b[1;32m   1012\u001b[0m     exclusions\u001b[38;5;241m.\u001b[39madd(gpr\u001b[38;5;241m.\u001b[39mkey)\n",
      "\u001b[0;31mKeyError\u001b[0m: 'col1'"
     ]
    }
   ],
   "source": [
    "df.groupby(\"col1\")[\"col2\"].describle()"
   ]
  },
  {
   "cell_type": "code",
   "execution_count": 12,
   "id": "7a337bc1",
   "metadata": {},
   "outputs": [
    {
     "ename": "NameError",
     "evalue": "name 'titanic_df' is not defined",
     "output_type": "error",
     "traceback": [
      "\u001b[0;31m---------------------------------------------------------------------------\u001b[0m",
      "\u001b[0;31mNameError\u001b[0m                                 Traceback (most recent call last)",
      "Cell \u001b[0;32mIn[12], line 1\u001b[0m\n\u001b[0;32m----> 1\u001b[0m \u001b[43mtitanic_df\u001b[49m\u001b[38;5;241m.\u001b[39mgroupby(\u001b[38;5;124m\"\u001b[39m\u001b[38;5;124mSex\u001b[39m\u001b[38;5;124m\"\u001b[39m)[\u001b[38;5;124m\"\u001b[39m\u001b[38;5;124mAge\u001b[39m\u001b[38;5;124m\"\u001b[39m]\u001b[38;5;241m.\u001b[39mdescribe()\n",
      "\u001b[0;31mNameError\u001b[0m: name 'titanic_df' is not defined"
     ]
    }
   ],
   "source": [
    "titanic_df.groupby(\"Sex\")[\"Age\"].describe()"
   ]
  },
  {
   "cell_type": "code",
   "execution_count": 13,
   "id": "f34f03f4",
   "metadata": {},
   "outputs": [
    {
     "ename": "NameError",
     "evalue": "name 'titanic_df' is not defined",
     "output_type": "error",
     "traceback": [
      "\u001b[0;31m---------------------------------------------------------------------------\u001b[0m",
      "\u001b[0;31mNameError\u001b[0m                                 Traceback (most recent call last)",
      "Cell \u001b[0;32mIn[13], line 1\u001b[0m\n\u001b[0;32m----> 1\u001b[0m \u001b[43mtitanic_df\u001b[49m\u001b[38;5;241m.\u001b[39mgroupby(sex)[age]\u001b[38;5;241m.\u001b[39mdescribe()\n",
      "\u001b[0;31mNameError\u001b[0m: name 'titanic_df' is not defined"
     ]
    }
   ],
   "source": [
    "titanic_df.groupby(sex)[age].describe()"
   ]
  },
  {
   "cell_type": "code",
   "execution_count": 14,
   "id": "43a1d9c0",
   "metadata": {},
   "outputs": [],
   "source": [
    "# I found it was easiest to work in a Chatbot session to fix my errors. It was helpful that Cjatbot provided me with a clear explination and actual code to help me fix the problems that I was having. I found the google search to be unhelpful and a long prcess."
   ]
  },
  {
   "cell_type": "code",
   "execution_count": 15,
   "id": "3b743d21",
   "metadata": {},
   "outputs": [],
   "source": [
    "# In this session, we covered the following topics:\n",
    "# Summary statistics from df.describe(): I explained the meaning of the summary statistics like count, mean, std, min, 25%, 50%, 75%, and max that are provided by the describe() method in pandas.\n",
    "# Understanding df.groupby(\"col1\")[\"col2\"].describe(): I described how this method works by grouping data based on the unique values in \"col1\" and then calculating the descriptive statistics for \"col2\" for each group. We also looked at the specific statistics provided by describe() within each group."
   ]
  },
  {
   "cell_type": "code",
   "execution_count": 18,
   "id": "8e4275f5",
   "metadata": {},
   "outputs": [],
   "source": [
    "# https://chatgpt.com/c/66e263bb-5968-800b-932e-fe46184b241e (chat log history)"
   ]
  },
  {
   "cell_type": "code",
   "execution_count": null,
   "id": "e52119b4",
   "metadata": {},
   "outputs": [],
   "source": []
  }
 ],
 "metadata": {
  "kernelspec": {
   "display_name": "Python 3 (ipykernel)",
   "language": "python",
   "name": "python3"
  },
  "language_info": {
   "codemirror_mode": {
    "name": "ipython",
    "version": 3
   },
   "file_extension": ".py",
   "mimetype": "text/x-python",
   "name": "python",
   "nbconvert_exporter": "python",
   "pygments_lexer": "ipython3",
   "version": "3.11.6"
  }
 },
 "nbformat": 4,
 "nbformat_minor": 5
}
